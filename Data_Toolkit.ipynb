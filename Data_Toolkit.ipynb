{
  "nbformat": 4,
  "nbformat_minor": 0,
  "metadata": {
    "colab": {
      "provenance": []
    },
    "kernelspec": {
      "name": "python3",
      "display_name": "Python 3"
    },
    "language_info": {
      "name": "python"
    }
  },
  "cells": [
    {
      "cell_type": "markdown",
      "source": [
        "**1.What is NumPy, and why is it widely used in Python**"
      ],
      "metadata": {
        "id": "wUi7Tu5k2LKu"
      }
    },
    {
      "cell_type": "markdown",
      "metadata": {
        "id": "09a31d30"
      },
      "source": [
        "NumPy (Numerical Python) is a fundamental library for scientific computing in Python. It provides support for large, multi-dimensional arrays and matrices, along with a large collection of high-level mathematical functions to operate on these arrays.\n",
        "\n",
        "Here's why NumPy is so widely used:\n",
        "\n",
        "1.  **Performance:** NumPy arrays are significantly faster and more memory-efficient than standard Python lists for numerical operations. This is because NumPy is implemented in C, which allows for vectorized operations that can process entire arrays at once without explicit Python loops.\n",
        "2.  **Powerful Array Object:** The `ndarray` object is the core of NumPy. It's a multi-dimensional container of items of the same type and size. This object is optimized for numerical operations and provides a wealth of methods for array manipulation.\n",
        "3.  **Extensive Mathematical Functions:** NumPy provides a comprehensive set of mathematical functions that can be applied to arrays, including linear algebra, Fourier transforms, random number generation, and more.\n",
        "4.  **Foundation for Other Libraries:** Many other popular scientific and data analysis libraries in Python, such as Pandas, SciPy, and scikit-learn, are built on top of NumPy. This makes NumPy an essential prerequisite for working with these libraries.\n",
        "5.  **Broadcasting:** As we discussed earlier, broadcasting allows NumPy to perform operations on arrays of different shapes, making code more concise and efficient.\n",
        "\n",
        "In summary, NumPy is essential for numerical computing in Python due to its performance, powerful array object, extensive functions, and its role as a foundation for other libraries."
      ]
    },
    {
      "cell_type": "markdown",
      "source": [
        "**2. How does broadcasting work in NumPy**"
      ],
      "metadata": {
        "id": "CGlnD-mD1y2d"
      }
    },
    {
      "cell_type": "markdown",
      "metadata": {
        "id": "d2cff703"
      },
      "source": [
        "Broadcasting in NumPy is a powerful mechanism that allows NumPy to work with arrays of different shapes when performing arithmetic operations. In essence, when operations are performed on arrays of different shapes, NumPy attempts to 'broadcast' the smaller array across the larger array so that they have compatible shapes.\n",
        "\n",
        "Here are the general rules NumPy follows for broadcasting:\n",
        "\n",
        "1.  **Rule 1: Equal dimensions or one is 1**: If the arrays do not have the same rank (number of dimensions), the shape of the smaller array is padded with ones on its left side.\n",
        "\n",
        "2.  **Rule 2: Equal size or one is 1**: If the shapes of the two arrays do not match in any dimension, the array with shape equal to 1 in that dimension is stretched to match the other shape.\n",
        "\n",
        "3.  **Rule 3: Error if not compatible**: If in any dimension the sizes disagree and neither is equal to 1, an error is raised.\n",
        "\n",
        "Here's a simple example:"
      ]
    },
    {
      "cell_type": "code",
      "metadata": {
        "colab": {
          "base_uri": "https://localhost:8080/"
        },
        "id": "5295a13f",
        "outputId": "8fad68ed-2c31-4e6e-e555-e067be8b67de"
      },
      "source": [
        "import numpy as np\n",
        "\n",
        "a = np.array([[1, 2, 3], [4, 5, 6]])  # Shape (2, 3)\n",
        "b = np.array([10, 20, 30])            # Shape (3,)\n",
        "\n",
        "c = a + b\n",
        "print(c)"
      ],
      "execution_count": 4,
      "outputs": [
        {
          "output_type": "stream",
          "name": "stdout",
          "text": [
            "[[11 22 33]\n",
            " [14 25 36]]\n"
          ]
        }
      ]
    },
    {
      "cell_type": "markdown",
      "source": [
        "**3.What is a Pandas DataFrame**"
      ],
      "metadata": {
        "id": "jteC5hUx2f2B"
      }
    },
    {
      "cell_type": "markdown",
      "metadata": {
        "id": "9b1ae3cf"
      },
      "source": [
        "A Pandas DataFrame is a two-dimensional labeled data structure with columns of potentially different types. It is similar to a spreadsheet or a SQL table. It is one of the most commonly used Pandas objects.\n",
        "\n",
        "Here are some key characteristics of a DataFrame:\n",
        "\n",
        "1.  **Tabular Data:** DataFrames are designed to handle tabular data, where data is organized into rows and columns.\n",
        "2.  **Labeled Axes:** DataFrames have both a row index and a column index, allowing for easy access and manipulation of data using labels or positions.\n",
        "3.  **Heterogeneous Data:** Columns in a DataFrame can hold different data types (e.g., integers, strings, floats, booleans).\n",
        "4.  **Size Mutable:** DataFrames can be modified by adding or deleting columns.\n",
        "5.  **Rich Functionality:** Pandas provides a wide range of functions and methods for working with DataFrames, including data alignment, handling missing data, data manipulation, grouping, merging, and more.\n",
        "\n",
        "In essence, a Pandas DataFrame is a powerful and flexible tool for working with structured data in Python, making data analysis and manipulation significantly easier and more efficient."
      ]
    },
    {
      "cell_type": "markdown",
      "source": [
        "**4.Explain the use of the groupby() method in Pandas**"
      ],
      "metadata": {
        "id": "Uf8KZzc-2q1t"
      }
    },
    {
      "cell_type": "markdown",
      "metadata": {
        "id": "73a7dde1"
      },
      "source": [
        "The `groupby()` method in Pandas is used to split data into groups based on some criteria. This is a fundamental step in the \"split-apply-combine\" strategy for data analysis, which involves:\n",
        "\n",
        "1.  **Splitting:** Dividing the data into groups based on one or more keys.\n",
        "2.  **Applying:** Performing a function (like aggregation, transformation, or filtration) within each group.\n",
        "3.  **Combining:** Merging the results from each group back into a single DataFrame or Series.\n",
        "\n",
        "Here's how `groupby()` works:\n",
        "\n",
        "You call the `groupby()` method on a DataFrame, specifying one or more columns to group by. This returns a `GroupBy` object, which doesn't immediately perform any computation but holds information about the groups.\n",
        "\n",
        "You then apply an aggregation function (like `sum()`, `mean()`, `count()`, `max()`, `min()`, etc.) to the `GroupBy` object. This function is applied to each group independently, and the results are combined into a new DataFrame or Series.\n",
        "\n",
        "Here's an example:\n",
        "\n",
        "Let's say you have a DataFrame with sales data, including columns for 'Product', 'Category', and 'Sales'. You could use `groupby()` to find the total sales for each category:"
      ]
    },
    {
      "cell_type": "code",
      "metadata": {
        "colab": {
          "base_uri": "https://localhost:8080/"
        },
        "id": "a003beab",
        "outputId": "2409c4f6-6729-4550-fe6a-633c3ad2cf9f"
      },
      "source": [
        "import pandas as pd\n",
        "\n",
        "data = {'Product': ['A', 'B', 'A', 'C', 'B', 'C'],\n",
        "        'Category': ['X', 'Y', 'X', 'Y', 'X', 'Y'],\n",
        "        'Sales': [100, 150, 120, 200, 180, 220]}\n",
        "df = pd.DataFrame(data)\n",
        "\n",
        "# Group by 'Category' and calculate the sum of 'Sales' for each category\n",
        "category_sales = df.groupby('Category')['Sales'].sum()\n",
        "\n",
        "print(category_sales)"
      ],
      "execution_count": 3,
      "outputs": [
        {
          "output_type": "stream",
          "name": "stdout",
          "text": [
            "Category\n",
            "X    400\n",
            "Y    570\n",
            "Name: Sales, dtype: int64\n"
          ]
        }
      ]
    },
    {
      "cell_type": "markdown",
      "metadata": {
        "id": "f90c4e7b"
      },
      "source": [
        "In this example:\n",
        "\n",
        "- `df.groupby('Category')` splits the DataFrame into groups based on the unique values in the 'Category' column ('X' and 'Y').\n",
        "- `['Sales']` selects the 'Sales' column to apply the aggregation on.\n",
        "- `.sum()` calculates the sum of 'Sales' for each group.\n",
        "\n",
        "The output would show the total sales for category 'X' and category 'Y'.\n",
        "\n",
        "You can also group by multiple columns:"
      ]
    },
    {
      "cell_type": "code",
      "metadata": {
        "colab": {
          "base_uri": "https://localhost:8080/",
          "height": 193
        },
        "id": "3efae3f2",
        "outputId": "a99bf12f-18b6-4cca-a443-63fe8d24a335"
      },
      "source": [
        "# Group by 'Category' and 'Product' and calculate the mean of 'Sales'\n",
        "category_product_sales = df.groupby(['Category', 'Product'])['Sales'].mean()\n",
        "\n",
        "print(category_product_sales)"
      ],
      "execution_count": 2,
      "outputs": [
        {
          "output_type": "error",
          "ename": "NameError",
          "evalue": "name 'df' is not defined",
          "traceback": [
            "\u001b[0;31m---------------------------------------------------------------------------\u001b[0m",
            "\u001b[0;31mNameError\u001b[0m                                 Traceback (most recent call last)",
            "\u001b[0;32m/tmp/ipython-input-703628146.py\u001b[0m in \u001b[0;36m<cell line: 0>\u001b[0;34m()\u001b[0m\n\u001b[1;32m      1\u001b[0m \u001b[0;31m# Group by 'Category' and 'Product' and calculate the mean of 'Sales'\u001b[0m\u001b[0;34m\u001b[0m\u001b[0;34m\u001b[0m\u001b[0m\n\u001b[0;32m----> 2\u001b[0;31m \u001b[0mcategory_product_sales\u001b[0m \u001b[0;34m=\u001b[0m \u001b[0mdf\u001b[0m\u001b[0;34m.\u001b[0m\u001b[0mgroupby\u001b[0m\u001b[0;34m(\u001b[0m\u001b[0;34m[\u001b[0m\u001b[0;34m'Category'\u001b[0m\u001b[0;34m,\u001b[0m \u001b[0;34m'Product'\u001b[0m\u001b[0;34m]\u001b[0m\u001b[0;34m)\u001b[0m\u001b[0;34m[\u001b[0m\u001b[0;34m'Sales'\u001b[0m\u001b[0;34m]\u001b[0m\u001b[0;34m.\u001b[0m\u001b[0mmean\u001b[0m\u001b[0;34m(\u001b[0m\u001b[0;34m)\u001b[0m\u001b[0;34m\u001b[0m\u001b[0;34m\u001b[0m\u001b[0m\n\u001b[0m\u001b[1;32m      3\u001b[0m \u001b[0;34m\u001b[0m\u001b[0m\n\u001b[1;32m      4\u001b[0m \u001b[0mprint\u001b[0m\u001b[0;34m(\u001b[0m\u001b[0mcategory_product_sales\u001b[0m\u001b[0;34m)\u001b[0m\u001b[0;34m\u001b[0m\u001b[0;34m\u001b[0m\u001b[0m\n",
            "\u001b[0;31mNameError\u001b[0m: name 'df' is not defined"
          ]
        }
      ]
    },
    {
      "cell_type": "markdown",
      "metadata": {
        "id": "7e06a022"
      },
      "source": [
        "This would show the average sales for each product within each category.\n",
        "\n",
        "The `groupby()` method is incredibly versatile and is a cornerstone of data analysis with Pandas."
      ]
    },
    {
      "cell_type": "markdown",
      "source": [
        "**5.A Why is Seaborn preferred for statistical visualizations**"
      ],
      "metadata": {
        "id": "3B1Gex6T2zkP"
      }
    },
    {
      "cell_type": "markdown",
      "metadata": {
        "id": "bdb7e560"
      },
      "source": [
        "Seaborn is a Python data visualization library based on Matplotlib. While Matplotlib is a powerful tool for creating a wide variety of plots, Seaborn is specifically designed to make it easier to create informative and attractive statistical graphics. Here's why it's often preferred for statistical visualizations:\n",
        "\n",
        "1.  **High-Level Interface:** Seaborn provides a high-level interface for drawing attractive and informative statistical graphics. This means you can often create complex visualizations with just a few lines of code, compared to the more verbose syntax sometimes required with Matplotlib.\n",
        "\n",
        "2.  **Built-in Themes and Color Palettes:** Seaborn comes with built-in themes and color palettes that make your plots look visually appealing and professional by default. This saves you time and effort in customizing the appearance of your plots.\n",
        "\n",
        "3.  **Focus on Statistical Relationships:** Seaborn is designed with statistical analysis in mind. It provides specialized plot types that are particularly useful for exploring relationships between variables, such as scatter plots, line plots, bar plots, histograms, and more, with built-in handling for things like confidence intervals and regression lines.\n",
        "\n",
        "4.  **Integration with Pandas DataFrames:** Seaborn works seamlessly with Pandas DataFrames. You can easily pass your DataFrame directly to Seaborn functions, and it will use the column names for labeling axes and creating legends, which simplifies the plotting process.\n",
        "\n",
        "5.  **Handling of Categorical Data:** Seaborn has excellent support for visualizing categorical data, offering plot types like box plots, violin plots, swarm plots, and count plots that are specifically designed to represent distributions and relationships within categories.\n",
        "\n",
        "6.  **Informative Default Settings:** Seaborn's default settings are often more aesthetically pleasing and statistically informative than Matplotlib's. For example, it automatically adds legends, labels axes, and adjusts plot elements to avoid clutter.\n",
        "\n",
        "In summary, while Matplotlib provides the foundational plotting capabilities, Seaborn builds upon it to offer a more convenient and specialized toolset for creating statistical visualizations that are both informative and visually appealing. It simplifies many common plotting tasks and helps you focus on understanding the patterns in your data."
      ]
    },
    {
      "cell_type": "markdown",
      "source": [
        "**6.A What are the differences between NumPy arrays and Python lists**"
      ],
      "metadata": {
        "id": "VbIhc0eF2_rs"
      }
    },
    {
      "cell_type": "markdown",
      "metadata": {
        "id": "b930736e"
      },
      "source": [
        "NumPy arrays and Python lists are both used to store collections of data, but they have significant differences in how they are implemented and their intended use cases. Here are the key distinctions:\n",
        "\n",
        "1.  **Data Type:**\n",
        "    *   **NumPy Arrays:** NumPy arrays are homogeneous, meaning all elements within an array must be of the same data type. This allows for efficient storage and operations.\n",
        "    *   **Python Lists:** Python lists are heterogeneous, meaning they can contain elements of different data types (integers, strings, objects, etc.) within the same list.\n",
        "\n",
        "2.  **Performance:**\n",
        "    *   **NumPy Arrays:** NumPy arrays are significantly faster for numerical operations, especially on large datasets. This is because NumPy is implemented in C and uses vectorized operations, which perform operations on entire arrays at once without explicit Python loops.\n",
        "    *   **Python Lists:** Python lists are generally slower for numerical operations due to the overhead of checking the data type of each element in a loop.\n",
        "\n",
        "3.  **Memory Efficiency:**\n",
        "    *   **NumPy Arrays:** NumPy arrays are more memory-efficient than Python lists. Because all elements are of the same type, NumPy can store them contiguously in memory, reducing memory overhead.\n",
        "    *   **Python Lists:** Python lists store pointers to objects, which can be scattered in memory, leading to higher memory consumption.\n",
        "\n",
        "4.  **Functionality:**\n",
        "    *   **NumPy Arrays:** NumPy provides a vast collection of mathematical functions and operations that can be applied directly to arrays (e.g., element-wise operations, linear algebra, statistical functions).\n",
        "    *   **Python Lists:** Python lists have general-purpose methods for adding, removing, and modifying elements, but they lack the specialized mathematical functions found in NumPy. You would typically need to use loops or list comprehensions for numerical operations, which are less efficient.\n",
        "\n",
        "5.  **Size Mutability:**\n",
        "    *   **NumPy Arrays:** NumPy arrays are fixed in size once created. While you can create new arrays with different sizes, you cannot directly change the size of an existing NumPy array.\n",
        "    *   **Python Lists:** Python lists are dynamic and can be easily resized by adding or removing elements.\n",
        "\n",
        "**In summary:**\n",
        "\n",
        "*   Use **NumPy arrays** for numerical operations on large datasets where performance and memory efficiency are crucial.\n",
        "*   Use **Python lists** for general-purpose collections of items where you might need to store different data types or frequently modify the size of the collection.\n",
        "\n",
        "NumPy is the foundation for many scientific and data analysis libraries in Python, making it an essential tool for working with numerical data."
      ]
    },
    {
      "cell_type": "markdown",
      "source": [
        "**7.What is a heatmap, and when should it be used)**"
      ],
      "metadata": {
        "id": "AxFx6p5u3PPv"
      }
    },
    {
      "cell_type": "markdown",
      "metadata": {
        "id": "10553807"
      },
      "source": [
        "A heatmap is a graphical representation of data where the individual values in a matrix are represented as colors. It's a powerful visualization tool used to show the magnitude of a phenomenon as color in two dimensions.\n",
        "\n",
        "Here's a breakdown of what a heatmap is and when you should use it:\n",
        "\n",
        "**What is a Heatmap?**\n",
        "\n",
        "*   **Color-coded Matrix:** At its core, a heatmap is a grid or matrix where each cell is assigned a color based on its value.\n",
        "*   **Color Intensity Represents Value:** The intensity or shade of the color in each cell typically corresponds to the magnitude of the data point it represents. For example, darker or warmer colors might indicate higher values, while lighter or cooler colors indicate lower values.\n",
        "*   **Two Dimensions:** Heatmaps are inherently two-dimensional, making them ideal for visualizing relationships between two variables. The rows and columns of the heatmap represent these variables.\n",
        "\n",
        "**When Should a Heatmap Be Used?**\n",
        "\n",
        "Heatmaps are particularly useful in the following scenarios:\n",
        "\n",
        "1.  **Visualizing Correlations:** Heatmaps are excellent for showing the correlation matrix between multiple variables. The color intensity can represent the strength and direction of the correlation (positive or negative).\n",
        "2.  **Exploring Relationships Between Categorical Variables:** When you have two categorical variables, a heatmap can show the frequency or some other metric for each combination of categories.\n",
        "3.  **Identifying Patterns in Data:** Heatmaps can help reveal patterns, clusters, or outliers in large datasets that might be difficult to spot in raw data or other types of plots.\n",
        "4.  **Displaying Matrix Data:** Any data that can be represented as a matrix, such as confusion matrices in machine learning, can be effectively visualized with a heatmap.\n",
        "5.  **Comparing Values Across Two Dimensions:** Heatmaps provide a quick visual summary of how a value changes across two different factors.\n",
        "\n",
        "**In summary:**\n",
        "\n",
        "Use a heatmap when you want to visualize the relationship or magnitude of data points in a two-dimensional grid, especially for identifying patterns, correlations, or comparisons between two variables. They are particularly effective for summarizing large amounts of data in a visually intuitive way."
      ]
    },
    {
      "cell_type": "markdown",
      "source": [
        "**8.A What does the term “vectorized operation” mean in NumPy**"
      ],
      "metadata": {
        "id": "dkvIIuZL3X-B"
      }
    },
    {
      "cell_type": "markdown",
      "metadata": {
        "id": "5576b8ab"
      },
      "source": [
        "In NumPy, a \"vectorized operation\" refers to the application of an operation to an entire array at once, rather than processing individual elements using explicit Python loops. This is a core concept in NumPy and is the primary reason for its performance advantage over standard Python lists for numerical computations.\n",
        "\n",
        "Here's a breakdown:\n",
        "\n",
        "*   **Traditional Approach (using Python loops):** When you perform an operation on elements of a Python list, you typically use a `for` loop to iterate through each element and apply the operation individually. This involves a lot of overhead due to Python's dynamic typing and the need to check the data type of each element in every iteration.\n",
        "\n",
        "*   **Vectorized Approach (using NumPy):** NumPy operations are implemented in C, which allows them to operate on contiguous blocks of memory containing elements of the same data type. When you perform a vectorized operation on a NumPy array, the operation is applied to all elements simultaneously, without the need for explicit Python loops.\n",
        "\n",
        "**Benefits of Vectorized Operations:**\n",
        "\n",
        "1.  **Speed:** Vectorized operations are significantly faster than equivalent operations performed using Python loops, especially for large arrays. This is because they avoid the overhead of the Python interpreter and can leverage optimized low-level code.\n",
        "2.  **Conciseness:** Vectorized code is often much more concise and readable than code that uses explicit loops. You can perform complex operations on entire arrays with just a few lines of code.\n",
        "3.  **Efficiency:** Vectorized operations are generally more memory-efficient as they are optimized to work with NumPy's contiguous array structure.\n",
        "\n",
        "**Example:**\n",
        "\n",
        "Adding two arrays:\n",
        "\n",
        "*   **Using Python lists (non-vectorized):**"
      ]
    },
    {
      "cell_type": "code",
      "metadata": {
        "colab": {
          "base_uri": "https://localhost:8080/"
        },
        "id": "48c7f9c2",
        "outputId": "ba23c60d-0bbe-47cb-e07d-80f25be9b3cb"
      },
      "source": [
        "    import numpy as np\n",
        "    array1 = np.array([1, 2, 3])\n",
        "    array2 = np.array([4, 5, 6])\n",
        "    result_array = array1 + array2\n",
        "    print(result_array)"
      ],
      "execution_count": 1,
      "outputs": [
        {
          "output_type": "stream",
          "name": "stdout",
          "text": [
            "[5 7 9]\n"
          ]
        }
      ]
    },
    {
      "cell_type": "markdown",
      "source": [
        "**9.How does Matplotlib differ from Plotly**"
      ],
      "metadata": {
        "id": "xZAnkxAD33zk"
      }
    },
    {
      "cell_type": "markdown",
      "metadata": {
        "id": "bfd83ae7"
      },
      "source": [
        "Matplotlib and Plotly are both popular Python libraries for data visualization, but they differ in several key aspects:\n",
        "\n",
        "1.  **Nature of Plots:**\n",
        "    *   **Matplotlib:** Primarily designed for creating static, publication-quality 2D plots. While it has some capabilities for interactive plots, it's not its main strength.\n",
        "    *   **Plotly:** Focuses on creating interactive, web-based plots. Plotly charts are inherently interactive, allowing users to zoom, pan, hover over data points for details, and toggle data series.\n",
        "\n",
        "2.  **Interactivity:**\n",
        "    *   **Matplotlib:** Limited built-in interactivity. Achieving complex interactivity often requires additional libraries or more involved coding.\n",
        "    *   **Plotly:** Excellent built-in interactivity. Plots are dynamic and responsive, making them ideal for web dashboards and interactive data exploration.\n",
        "\n",
        "3.  **Output Format:**\n",
        "    *   **Matplotlib:** Typically generates static image files (PNG, JPG, PDF, SVG) or displays plots in a GUI window.\n",
        "    *   **Plotly:** Generates HTML files or can be used within web frameworks (like Dash, Flask, Django) to create interactive web applications. Plots can also be exported as static images.\n",
        "\n",
        "4.  **Ease of Use (for basic plots):**\n",
        "    *   **Matplotlib:** Can be very easy for simple plots, but customizing complex plots might require more detailed code.\n",
        "    *   **Plotly:** Can also be easy for basic plots, especially with its Express API. Creating highly customized interactive plots might have a steeper learning curve than basic Matplotlib.\n",
        "\n",
        "5.  **Integration with Web:**\n",
        "    *   **Matplotlib:** Not directly designed for web integration.\n",
        "    *   **Plotly:** Designed for web integration and works seamlessly with web frameworks.\n",
        "\n",
        "6.  **Appearance and Aesthetics:**\n",
        "    *   **Matplotlib:** Provides extensive control over plot elements, but default aesthetics might require customization for a professional look.\n",
        "    *   **Plotly:** Generally has more modern and visually appealing default aesthetics.\n",
        "\n",
        "7.  **Community and Ecosystem:**\n",
        "    *   **Matplotlib:** Has a larger and more mature community and ecosystem, with a vast amount of examples and tutorials available.\n",
        "    *   **Plotly:** Has a growing community and is increasingly popular, especially for interactive web visualizations.\n",
        "\n",
        "**In summary:**\n",
        "\n",
        "*   Choose **Matplotlib** for creating static, high-quality plots for publications or reports where interactivity is not the primary focus.\n",
        "*   Choose **Plotly** for creating interactive, web-based visualizations for dashboards, web applications, or data exploration where interactivity is essential.\n",
        "\n",
        "Many data scientists use both libraries, choosing the one that best suits the specific visualization task."
      ]
    },
    {
      "cell_type": "markdown",
      "source": [
        "**10.What is the significance of hierarchical indexing in Pandas**"
      ],
      "metadata": {
        "id": "r2yOy91J4Cid"
      }
    },
    {
      "cell_type": "markdown",
      "metadata": {
        "id": "3dd6272a"
      },
      "source": [
        "Hierarchical indexing, also known as MultiIndex, is a powerful feature in Pandas that allows you to have multiple levels of indexes (or columns) on an axis. This provides a way to work with higher dimensional data in a lower dimensional structure like a Series or DataFrame.\n",
        "\n",
        "Here's the significance of hierarchical indexing:\n",
        "\n",
        "1.  **Handling Multi-dimensional Data:** Hierarchical indexing allows you to represent and manipulate data with more than two dimensions within a 2D DataFrame or 1D Series. Each level of the index represents a dimension of the data.\n",
        "\n",
        "2.  **Organizing Complex Data:** It provides a structured way to organize and access complex datasets with multiple grouping factors. For example, you might have data indexed by year, then by quarter, and then by region.\n",
        "\n",
        "3.  **Efficient Data Selection and Manipulation:** Pandas provides efficient ways to select, slice, and perform operations on data using multiple levels of the index. You can select data based on specific values at one or more levels of the index.\n",
        "\n",
        "4.  **Reshaping Data:** Hierarchical indexing is often used in conjunction with data reshaping operations like `stack()` and `unstack()`, which allow you to pivot data between wide and long formats.\n",
        "\n",
        "5.  **Working with Grouped Data:** While `groupby()` is used for performing operations on groups, hierarchical indexing can be used to represent the results of grouping operations, creating a MultiIndex from the grouping keys.\n",
        "\n",
        "**Example:**\n",
        "\n",
        "Let's say you have sales data for different products in different regions over several years. You could use hierarchical indexing to structure this data:"
      ]
    },
    {
      "cell_type": "markdown",
      "source": [
        "**11.What is the role of Seaborn’s pairplot() function**"
      ],
      "metadata": {
        "id": "xJw6KcFz4XTL"
      }
    },
    {
      "cell_type": "markdown",
      "metadata": {
        "id": "80323ef4"
      },
      "source": [
        "Seaborn's `pairplot()` function is a powerful tool for visualizing the relationships between multiple variables in a dataset. It creates a grid of scatter plots where each variable in the dataset is plotted against every other variable.\n",
        "\n",
        "Here's the role of `pairplot()`:\n",
        "\n",
        "1.  **Visualizing Pairwise Relationships:** The primary purpose of `pairplot()` is to show the pairwise relationships between all numerical variables in a DataFrame. Each scatter plot in the grid displays the relationship between two different variables.\n",
        "\n",
        "2.  **Exploring Distributions:** By default, `pairplot()` also plots a univariate distribution (histogram or kernel density estimate) of each variable on the diagonal of the grid. This helps you understand the distribution of individual variables.\n",
        "\n",
        "3.  **Identifying Correlations and Patterns:** By examining the scatter plots, you can quickly identify potential correlations, clusters, or patterns in the data. For example, a clear linear pattern in a scatter plot suggests a strong correlation between the two variables.\n",
        "\n",
        "4.  **Faceting by Category:** You can use the `hue` parameter to color the points in the scatter plots based on a categorical variable. This allows you to explore how the relationships between variables differ across different categories.\n",
        "\n",
        "5.  **Customization:** While `pairplot()` provides a quick overview, you can customize the plots by specifying the type of plot to use on the diagonal (`diag_kind`), the type of plot to use in the off-diagonal panels (`kind`), and other aesthetic options.\n",
        "\n",
        "**When to use `pairplot()`:**\n",
        "\n",
        "*   When you want to quickly visualize the relationships between multiple numerical variables in your dataset.\n",
        "*   To get a visual overview of the distributions of individual variables.\n",
        "*   To identify potential correlations, clusters, or outliers in the data.\n",
        "*   To explore how relationships between variables vary across different categories.\n",
        "\n",
        "**Example:**"
      ]
    },
    {
      "cell_type": "markdown",
      "source": [
        "**12.What is the purpose of the describe() function in Pandas**"
      ],
      "metadata": {
        "id": "M_Ghfp1n4q-X"
      }
    },
    {
      "cell_type": "markdown",
      "metadata": {
        "id": "1e8109c2"
      },
      "source": [
        "The `describe()` function in Pandas is a very useful method for generating descriptive statistics of a DataFrame or Series. It provides a quick summary of the central tendency, dispersion, and shape of the distribution of your data.\n",
        "\n",
        "Here's the purpose and what it typically outputs:\n",
        "\n",
        "**Purpose:**\n",
        "\n",
        "The main purpose of `describe()` is to get a high-level overview of your data's statistical properties without having to calculate each statistic manually. It helps you quickly understand:\n",
        "\n",
        "*   The number of non-null values.\n",
        "*   The central value (mean).\n",
        "*   The spread of the data (standard deviation).\n",
        "*   The range of the data (minimum and maximum values).\n",
        "*   The distribution of the data (quartiles).\n",
        "\n",
        "**What it outputs (for numerical data):**\n",
        "\n",
        "When applied to a numerical column or a DataFrame containing numerical columns, `describe()` typically outputs the following statistics:\n",
        "\n",
        "*   **count:** The number of non-null observations.\n",
        "*   **mean:** The arithmetic mean of the data.\n",
        "*   **std:** The standard deviation, which measures the amount of variation or dispersion of the data.\n",
        "*   **min:** The minimum value in the data.\n",
        "*   **25%:** The first quartile (25th percentile), below which 25% of the data falls.\n",
        "*   **50%:** The median (50th percentile), which is the middle value of the data.\n",
        "*   **75%:** The third quartile (75th percentile), below which 75% of the data falls.\n",
        "*   **max:** The maximum value in the data.\n",
        "\n",
        "**What it outputs (for categorical data):**\n",
        "\n",
        "When applied to a categorical column or a DataFrame containing categorical columns, `describe()` typically outputs:\n",
        "\n",
        "*   **count:** The number of non-null observations.\n",
        "*   **unique:** The number of unique values in the column.\n",
        "*   **top:** The most frequent value in the column.\n",
        "*   **freq:** The frequency of the top value.\n",
        "\n",
        "**Example:**\n",
        "\n",
        "Let's use the `df` DataFrame from the previous `groupby()` example:"
      ]
    },
    {
      "cell_type": "code",
      "metadata": {
        "colab": {
          "base_uri": "https://localhost:8080/"
        },
        "id": "1e44b4cd",
        "outputId": "2e845173-00c8-4b2b-e357-29ed9af63bd5"
      },
      "source": [
        "import pandas as pd\n",
        "\n",
        "data = {'Product': ['A', 'B', 'A', 'C', 'B', 'C'],\n",
        "        'Category': ['X', 'Y', 'X', 'Y', 'X', 'Y'],\n",
        "        'Sales': [100, 150, 120, 200, 180, 220]}\n",
        "df = pd.DataFrame(data)\n",
        "\n",
        "# Get descriptive statistics for the DataFrame\n",
        "description = df.describe()\n",
        "\n",
        "print(description)\n",
        "\n",
        "# Get descriptive statistics for a specific column (e.g., 'Sales')\n",
        "sales_description = df['Sales'].describe()\n",
        "\n",
        "print(sales_description)\n",
        "\n",
        "# Get descriptive statistics for categorical columns\n",
        "categorical_description = df.describe(include='object')\n",
        "\n",
        "print(categorical_description)"
      ],
      "execution_count": 5,
      "outputs": [
        {
          "output_type": "stream",
          "name": "stdout",
          "text": [
            "            Sales\n",
            "count    6.000000\n",
            "mean   161.666667\n",
            "std     46.654760\n",
            "min    100.000000\n",
            "25%    127.500000\n",
            "50%    165.000000\n",
            "75%    195.000000\n",
            "max    220.000000\n",
            "count      6.000000\n",
            "mean     161.666667\n",
            "std       46.654760\n",
            "min      100.000000\n",
            "25%      127.500000\n",
            "50%      165.000000\n",
            "75%      195.000000\n",
            "max      220.000000\n",
            "Name: Sales, dtype: float64\n",
            "       Product Category\n",
            "count        6        6\n",
            "unique       3        2\n",
            "top          A        X\n",
            "freq         2        3\n"
          ]
        }
      ]
    },
    {
      "cell_type": "markdown",
      "source": [
        "**13.Why is handling missing data important in Pandas**"
      ],
      "metadata": {
        "id": "P4_riNvd47j9"
      }
    },
    {
      "cell_type": "markdown",
      "metadata": {
        "id": "9f92f8e3"
      },
      "source": [
        "Handling missing data is a critical step in data analysis and preprocessing when working with Pandas DataFrames for several important reasons:\n",
        "\n",
        "1.  **Impact on Analysis Results:** Missing data can significantly skew or invalidate the results of your analysis. Many statistical calculations and machine learning algorithms are not designed to handle missing values and may produce incorrect or misleading outputs if they are not addressed. For example, calculating the mean of a column with missing values without handling them will result in an inaccurate representation of the central tendency.\n",
        "\n",
        "2.  **Algorithm Requirements:** Many machine learning algorithms require complete datasets without any missing values. If your data contains missing values, you will encounter errors when trying to train or apply these algorithms.\n",
        "\n",
        "3.  **Data Integrity and Quality:** Missing data can indicate issues with data collection, entry, or processing. Addressing missing values is part of ensuring data integrity and improving the overall quality of your dataset.\n",
        "\n",
        "4.  **Avoiding Bias:** Ignoring missing data or handling it improperly can introduce bias into your analysis. For instance, if missing data is not randomly distributed but is systematically related to certain characteristics of the data, simply dropping rows with missing values could lead to a biased sample.\n",
        "\n",
        "5.  **Preventing Errors in Operations:** Many Pandas operations and functions may not work as expected or may raise errors when encountering missing values. Handling them ensures that your code runs smoothly and produces reliable results.\n",
        "\n",
        "**Common ways to handle missing data in Pandas:**\n",
        "\n",
        "*   **Identification:** Use methods like `.isnull()`, `.notnull()`, and `.info()` to identify where missing values exist in your DataFrame.\n",
        "*   **Dropping:** Use `.dropna()` to remove rows or columns that contain missing values. This should be done carefully, as it can lead to loss of valuable data.\n",
        "*   **Imputation:** Use methods like `.fillna()` to replace missing values with a suitable substitute, such as the mean, median, mode, or a constant value. The choice of imputation strategy depends on the nature of the data and the analysis being performed.\n",
        "*   **Interpolation:** Use methods like `.interpolate()` to estimate missing values based on existing values, often used for time series data.\n",
        "\n",
        "In summary, handling missing data is essential for accurate analysis, compatibility with algorithms, maintaining data integrity, avoiding bias, and ensuring smooth data processing in Pandas. It's a fundamental step in preparing your data for meaningful insights."
      ]
    },
    {
      "cell_type": "markdown",
      "source": [
        "**14.A What are the benefits of using Plotly for data visualization**"
      ],
      "metadata": {
        "id": "aHnzdGYw5L1z"
      }
    },
    {
      "cell_type": "markdown",
      "metadata": {
        "id": "2e11e2c5"
      },
      "source": [
        "Plotly is a powerful data visualization library that offers several benefits, especially when compared to libraries primarily focused on static plots like Matplotlib. Here are some of the key advantages of using Plotly:\n",
        "\n",
        "1.  **Interactivity:** This is one of Plotly's biggest strengths. Plots are interactive by default, allowing users to zoom, pan, hover over data points for detailed information, and toggle the visibility of different data series. This makes data exploration and presentation much more dynamic and insightful.\n",
        "\n",
        "2.  **Web-Based and Shareable:** Plotly generates plots as HTML, making them easily shareable and embeddable in web applications, dashboards (like those built with Dash), and interactive reports. This is particularly useful for sharing findings with a wider audience.\n",
        "\n",
        "3.  **Rich and Modern Aesthetics:** Plotly plots generally have a modern and visually appealing look with good default settings. While customization is possible in Matplotlib, Plotly often produces more polished-looking interactive plots with less effort.\n",
        "\n",
        "4.  **Wide Range of Chart Types:** Plotly supports a vast array of chart types, including common ones like scatter plots, line plots, and bar charts, as well as more specialized plots like 3D plots, contour plots, heatmaps, and financial charts.\n",
        "\n",
        "5.  **Integration with Dash:** Plotly is the foundation of Dash, a popular Python framework for building analytical web applications. This tight integration makes it very convenient to build interactive dashboards using Plotly figures.\n",
        "\n",
        "6.  **Support for Multiple Languages:** Plotly has APIs available for Python, R, MATLAB, JavaScript, and other languages, making it a versatile choice for teams working in different environments.\n",
        "\n",
        "7.  **Community and Support:** Plotly has a growing and active community, and there is good documentation and support available.\n",
        "\n",
        "In summary, if you need to create interactive, web-based visualizations that are easy to share and explore, Plotly is an excellent choice. Its focus on interactivity and web integration sets it apart for many data visualization tasks."
      ]
    },
    {
      "cell_type": "markdown",
      "source": [
        "**15. How does NumPy handle multidimensional arrays**"
      ],
      "metadata": {
        "id": "t6nikkY25Vel"
      }
    },
    {
      "cell_type": "markdown",
      "metadata": {
        "id": "06fb8d87"
      },
      "source": [
        "NumPy's core strength lies in its ability to efficiently handle multidimensional arrays, also known as tensors. Unlike Python lists, which are general-purpose containers, NumPy arrays are specifically designed for numerical operations and provide a structured way to work with data arranged in grids of various dimensions.\n",
        "\n",
        "Here's how NumPy handles multidimensional arrays:\n",
        "\n",
        "1.  **`ndarray` Object:** The foundation of NumPy's multidimensional array handling is the `ndarray` object. This object is a contiguous block of memory that stores elements of the same data type. The structure of the multidimensional array is defined by its `shape` and `strides`.\n",
        "\n",
        "2.  **Shape:** The `shape` of a NumPy array is a tuple of integers that indicates the size of the array along each dimension. For example, a 2D array (matrix) with 3 rows and 4 columns would have a shape of `(3, 4)`. A 3D array with dimensions 2, 3, and 4 would have a shape of `(2, 3, 4)`.\n",
        "\n",
        "3.  **Dimensions (Axes):** Each dimension of a multidimensional array is referred to as an axis. For a 2D array, axis 0 represents the rows, and axis 1 represents the columns. For higher-dimensional arrays, the axes are indexed from 0 up to the number of dimensions minus one.\n",
        "\n",
        "4.  **Indexing and Slicing:** NumPy provides powerful and flexible ways to access and manipulate elements within multidimensional arrays using indexing and slicing. You can use integers, slices, boolean arrays, or integer arrays to select specific elements, rows, columns, or subarrays.\n",
        "\n",
        "5.  **Broadcasting:** As discussed earlier, broadcasting is a key feature that allows NumPy to perform operations on arrays with different shapes. This is particularly useful when working with multidimensional arrays, as it enables operations between arrays of different dimensions or between arrays and scalars.\n",
        "\n",
        "6.  **Vectorized Operations:** NumPy's vectorized operations extend seamlessly to multidimensional arrays. Operations are applied element-wise across the entire array, making computations very efficient, regardless of the number of dimensions.\n",
        "\n",
        "7.  **Memory Layout (Row-major vs. Column-major):** NumPy arrays can be stored in memory in different orders, primarily row-major (C-order) or column-major (Fortran-order). This affects how the elements are arranged in the contiguous memory block and can be important for performance in certain operations.\n",
        "\n",
        "**In summary:**\n",
        "\n",
        "NumPy handles multidimensional arrays through its optimized `ndarray` object, which uses `shape` and `strides` to define the array's structure. It provides powerful indexing, slicing, broadcasting, and vectorized operations that make working with multidimensional data in Python efficient and convenient. This capability is fundamental to many scientific and data analysis tasks that involve working with grids or tensors of data."
      ]
    },
    {
      "cell_type": "markdown",
      "source": [
        "**16.A What is the role of Bokeh in data visualization**"
      ],
      "metadata": {
        "id": "2nTG4M_Q5htB"
      }
    },
    {
      "cell_type": "markdown",
      "metadata": {
        "id": "1eaefc25"
      },
      "source": [
        "Bokeh is an interactive visualization library for modern web browsers. It provides elegant, concise construction of versatile graphics, and currently delivers capabilities in Python, R, Scala, and JavaScript.\n",
        "\n",
        "Here's the role of Bokeh in data visualization:\n",
        "\n",
        "1.  **Interactive Web Visualizations:** Like Plotly, Bokeh excels at creating interactive plots that can be rendered in web browsers. This includes features like zooming, panning, hovering for details, and interactive widgets.\n",
        "2.  **Streaming and Real-time Data:** Bokeh is well-suited for visualizing streaming or real-time data due to its ability to update plots dynamically.\n",
        "3.  **Customizable and Flexible:** Bokeh offers a high degree of customization, allowing you to create complex and tailored visualizations. It has a lower-level `bokeh.models` interface for fine-grained control and a higher-level `bokeh.plotting` interface for common plot types.\n",
        "4.  **Integration with Web Frameworks:** Bokeh can be easily integrated with web frameworks like Flask and Django to build interactive dashboards and web applications.\n",
        "5.  **Large Datasets:** Bokeh is designed to handle large datasets efficiently, which can be a challenge for some other visualization libraries.\n",
        "6.  **Server and Embeddable:** Bokeh allows you to create standalone HTML files, or you can run a Bokeh server to create more complex interactive applications that can react to user input.\n",
        "\n",
        "**When to use Bokeh:**\n",
        "\n",
        "*   When you need to create interactive visualizations for the web.\n",
        "*   When working with streaming or real-time data.\n",
        "*   When you require a high degree of customization and control over your plots.\n",
        "*   When you want to build interactive dashboards or web applications with Python.\n",
        "*   When dealing with large datasets that require efficient rendering.\n",
        "\n",
        "In essence, Bokeh is a powerful tool for creating interactive, web-based visualizations, particularly when dealing with dynamic or large datasets, and when you need flexibility and control over the plot's appearance and behavior."
      ]
    },
    {
      "cell_type": "markdown",
      "source": [
        "**17.A Explain the difference between apply() and map() in Pandas**"
      ],
      "metadata": {
        "id": "KLIBsc9f55LA"
      }
    },
    {
      "cell_type": "markdown",
      "metadata": {
        "id": "5338f562"
      },
      "source": [
        "In Pandas, both `apply()` and `map()` are used to apply a function to data, but they are used in different contexts and have different behaviors.\n",
        "\n",
        "Here's the difference between `apply()` and `map()`:\n",
        "\n",
        "**`map()`:**\n",
        "\n",
        "*   **Purpose:** Primarily used to substitute each value in a Series with another value. It's useful for mapping values from one set to another.\n",
        "*   **Usage:** It is a Series method. You can pass a dictionary, a Series, or a function to `map()`.\n",
        "*   **Behavior with Function:** If you pass a function to `map()`, the function is applied to each individual element in the Series.\n",
        "*   **Handling Missing Values:** By default, `map()` will replace values that are not found in the mapping (if using a dictionary or Series) with `NaN` (Not a Number).\n",
        "\n",
        "**Example of `map()`:**\n",
        "\n",
        "Let's say you have a Series of country codes and you want to map them to full country names:"
      ]
    },
    {
      "cell_type": "code",
      "metadata": {
        "colab": {
          "base_uri": "https://localhost:8080/"
        },
        "id": "46877561",
        "outputId": "c73826fd-ba21-483c-9934-5f877b51fff2"
      },
      "source": [
        "import pandas as pd\n",
        "\n",
        "series = pd.Series(['US', 'CA', 'GB', 'FR', 'US'])\n",
        "country_map = {'US': 'United States', 'CA': 'Canada', 'GB': 'United Kingdom'}\n",
        "\n",
        "mapped_series = series.map(country_map)\n",
        "print(mapped_series)\n",
        "\n",
        "# Using a function with map()\n",
        "mapped_series_func = series.map(lambda x: x.lower())\n",
        "print(mapped_series_func)"
      ],
      "execution_count": 6,
      "outputs": [
        {
          "output_type": "stream",
          "name": "stdout",
          "text": [
            "0     United States\n",
            "1            Canada\n",
            "2    United Kingdom\n",
            "3               NaN\n",
            "4     United States\n",
            "dtype: object\n",
            "0    us\n",
            "1    ca\n",
            "2    gb\n",
            "3    fr\n",
            "4    us\n",
            "dtype: object\n"
          ]
        }
      ]
    },
    {
      "cell_type": "markdown",
      "metadata": {
        "id": "08ccc607"
      },
      "source": [
        "**`apply()`:**\n",
        "\n",
        "*   **Purpose:** More general-purpose and can be applied to Series, DataFrames, and elements of DataFrames. It's used to apply a function along an axis of the DataFrame or Series.\n",
        "*   **Usage:** It is a Series and DataFrame method. You can pass a function to `apply()`.\n",
        "*   **Behavior with Function:** When used on a Series, `apply()` behaves similarly to `map()` and applies the function to each element. However, when used on a DataFrame, `apply()` applies the function to each column (by default, `axis=0`) or each row (`axis=1`). The function should be designed to operate on a Series (a column or a row).\n",
        "*   **Flexibility:** `apply()` is more flexible than `map()` as it can be used to apply more complex functions that operate on entire rows or columns.\n",
        "\n",
        "**Example of `apply()`:**\n",
        "\n",
        "Let's use the `df` DataFrame from a previous example:"
      ]
    },
    {
      "cell_type": "code",
      "metadata": {
        "colab": {
          "base_uri": "https://localhost:8080/"
        },
        "id": "01524198",
        "outputId": "444d9e40-ad00-492e-a6ae-ce7f6d8bd2d2"
      },
      "source": [
        "import pandas as pd\n",
        "\n",
        "data = {'Product': ['A', 'B', 'A', 'C', 'B', 'C'],\n",
        "        'Category': ['X', 'Y', 'X', 'Y', 'X', 'Y'],\n",
        "        'Sales': [100, 150, 120, 200, 180, 220]}\n",
        "df = pd.DataFrame(data)\n",
        "\n",
        "# Using apply() on a Series (similar to map)\n",
        "df['Sales_doubled'] = df['Sales'].apply(lambda x: x * 2)\n",
        "print(df)\n",
        "\n",
        "# Using apply() on a DataFrame to apply a function to each column\n",
        "def sales_range(col):\n",
        "    return col.max() - col.min()\n",
        "\n",
        "sales_range_by_column = df[['Sales']].apply(sales_range)\n",
        "print(sales_range_by_column)\n",
        "\n",
        "# Using apply() on a DataFrame to apply a function to each row\n",
        "def categorize_sales(row):\n",
        "    if row['Sales'] > 150:\n",
        "        return 'High'\n",
        "    else:\n",
        "        return 'Low'\n",
        "\n",
        "df['Sales_category'] = df.apply(categorize_sales, axis=1)\n",
        "print(df)"
      ],
      "execution_count": 7,
      "outputs": [
        {
          "output_type": "stream",
          "name": "stdout",
          "text": [
            "  Product Category  Sales  Sales_doubled\n",
            "0       A        X    100            200\n",
            "1       B        Y    150            300\n",
            "2       A        X    120            240\n",
            "3       C        Y    200            400\n",
            "4       B        X    180            360\n",
            "5       C        Y    220            440\n",
            "Sales    120\n",
            "dtype: int64\n",
            "  Product Category  Sales  Sales_doubled Sales_category\n",
            "0       A        X    100            200            Low\n",
            "1       B        Y    150            300            Low\n",
            "2       A        X    120            240            Low\n",
            "3       C        Y    200            400           High\n",
            "4       B        X    180            360           High\n",
            "5       C        Y    220            440           High\n"
          ]
        }
      ]
    },
    {
      "cell_type": "markdown",
      "metadata": {
        "id": "e3be3f24"
      },
      "source": [
        "**Key Differences Summarized:**\n",
        "\n",
        "*   **Scope:** `map()` is for Series only; `apply()` is for both Series and DataFrames.\n",
        "*   **Input:** `map()` can take a dictionary, Series, or function; `apply()` primarily takes a function.\n",
        "*   **Function Application:** `map()` applies a function element-wise to a Series; `apply()` applies a function along an axis (column or row) of a DataFrame or element-wise to a Series.\n",
        "*   **Flexibility:** `apply()` is more flexible for applying functions that operate on multiple elements (like a row or column).\n",
        "\n",
        "Choose `map()` when you need to substitute values in a Series based on a mapping or apply a simple element-wise function. Choose `apply()` when you need to apply a more complex function along an axis of a DataFrame or to a Series."
      ]
    },
    {
      "cell_type": "markdown",
      "source": [
        "**18.What are some advanced features of NumPy**"
      ],
      "metadata": {
        "id": "fFf2aeYF6sR6"
      }
    },
    {
      "cell_type": "markdown",
      "metadata": {
        "id": "ec8a73ba"
      },
      "source": [
        "While we've covered the basics of NumPy, it offers several advanced features that are powerful for more complex numerical tasks. Here are a few notable ones:\n",
        "\n",
        "1.  **Linear Algebra Operations:** NumPy provides a comprehensive set of functions for linear algebra, including matrix multiplication (`@` operator or `np.dot()`), matrix decomposition (e.g., `np.linalg.eig()`, `np.linalg.svd()`), solving linear equations (`np.linalg.solve()`), and calculating determinants and inverses. These are fundamental for many scientific and engineering applications.\n",
        "\n",
        "2.  **Fourier Analysis:** NumPy's `fft` module provides functions for computing Fast Fourier Transforms (FFTs) and their inverses. This is essential for analyzing the frequency components of signals and is widely used in areas like signal processing and image processing.\n",
        "\n",
        "3.  **Random Number Generation:** While basic random number generation is available, NumPy's `random` module offers advanced capabilities for generating random numbers from various probability distributions (e.g., normal, binomial, Poisson) and for shuffling and sampling data.\n",
        "\n",
        "4.  **Masked Arrays:** NumPy supports masked arrays, which are arrays that have a mask associated with them to indicate that certain elements are invalid or missing. This is useful for handling missing data in a way that doesn't require changing the array's shape or data type.\n",
        "\n",
        "5.  **Memory Mapping (`np.memmap`):** This feature allows you to treat a file on disk as a NumPy array. This is particularly useful for working with very large datasets that don't fit into memory, as you can access and process parts of the data directly from the file.\n",
        "\n",
        "6.  **Structured Arrays:** NumPy allows you to create structured arrays, where elements can be thought of as structures or records with different data types for different fields. This is similar to a table in a database or a struct in C and is useful for organizing heterogeneous data.\n",
        "\n",
        "7.  **Interfacing with C/C++ and Fortran:** NumPy provides mechanisms for easily integrating with code written in C, C++, and Fortran. This allows you to leverage existing high-performance code or write custom performance-critical operations in lower-level languages.\n",
        "\n",
        "8.  **ufuncs (Universal Functions):** ufuncs are functions that operate element-wise on NumPy arrays. NumPy provides a large collection of built-in ufuncs, and you can also create your own. Understanding ufuncs can help you write more efficient and flexible code.\n",
        "\n",
        "These are just some of the advanced features that make NumPy a powerful and versatile library for numerical computing in Python. Exploring these features can significantly enhance your ability to perform complex data analysis and scientific computations."
      ]
    },
    {
      "cell_type": "markdown",
      "source": [
        "**19. How does Pandas simplify time series analysis**"
      ],
      "metadata": {
        "id": "cbubN1017jNU"
      }
    },
    {
      "cell_type": "markdown",
      "metadata": {
        "id": "ce56e7ea"
      },
      "source": [
        "Pandas provides a rich set of tools and functionalities that significantly simplify working with time series data. Here's how it does that:\n",
        "\n",
        "1.  **Datetime Index:** Pandas has excellent support for datetime objects, which are crucial for time series analysis. The `DatetimeIndex` is a specialized index that allows for efficient handling of time-based data. You can easily convert columns to datetime objects using `pd.to_datetime()`.\n",
        "\n",
        "2.  **Time-Based Indexing and Slicing:** With a DatetimeIndex, you can easily select and slice data based on dates and times. You can select data for specific dates, date ranges, months, years, etc., using intuitive syntax.\n",
        "\n",
        "3.  **Resampling:** Pandas allows you to easily resample time series data to different frequencies (e.g., from daily to monthly, or from hourly to minute). This is useful for aggregating or downsampling data.\n",
        "\n",
        "4.  **Time Zone Handling:** Pandas provides robust support for handling time zones, including localization and conversion.\n",
        "\n",
        "5.  **Handling Missing Data:** Pandas has built-in methods for handling missing data in time series, such as filling forward (`ffill()`) or backward (`bfill()`) or interpolating values.\n",
        "\n",
        "6.  **Rolling and Expanding Operations:** You can easily perform rolling or expanding calculations (like moving averages, rolling sums, etc.) on time series data using methods like `rolling()` and `expanding()`.\n",
        "\n",
        "7.  **Plotting:** Pandas integrates well with visualization libraries like Matplotlib and Seaborn, making it easy to plot time series data.\n",
        "\n",
        "8.  **Time Deltas:** Pandas supports `Timedelta` objects, which represent differences in time. This is useful for calculating durations or shifting data by a specific time period.\n",
        "\n",
        "**In summary:**\n",
        "\n",
        "Pandas provides a comprehensive and convenient framework for working with time series data in Python. Its specialized datetime capabilities, indexing, resampling, and other time-aware functionalities make it the go-to library for time series analysis and manipulation."
      ]
    },
    {
      "cell_type": "markdown",
      "source": [
        "**20.A What is the role of a pivot table in Pandas**"
      ],
      "metadata": {
        "id": "2h8LLczL7wh9"
      }
    },
    {
      "cell_type": "markdown",
      "metadata": {
        "id": "bc498ea8"
      },
      "source": [
        "A pivot table is a data summarization tool that is commonly used in spreadsheet software and databases. In Pandas, the `pivot_table()` function serves the same purpose, allowing you to reshape and summarize data in a DataFrame.\n",
        "\n",
        "Here's the role of a pivot table in Pandas:\n",
        "\n",
        "1.  **Reshaping Data:** The primary role of a pivot table is to reshape your data by transforming rows into columns. This is particularly useful for summarizing data based on different categories.\n",
        "2.  **Summarizing Data:** Pivot tables are used to aggregate data based on one or more key columns. You can specify an aggregation function (like `sum`, `mean`, `count`, etc.) to apply to the values in the table.\n",
        "3.  **Creating Cross-Tabulations:** Pivot tables are excellent for creating cross-tabulations, which show the relationship between two or more categorical variables by displaying the frequency or summary statistic for each combination of categories.\n",
        "4.  **Analyzing Multidimensional Data:** While DataFrames are 2D, pivot tables allow you to effectively analyze data with more dimensions by using multiple columns for the index, columns, and values.\n",
        "5.  **Data Exploration:** Pivot tables are a powerful tool for data exploration, allowing you to quickly summarize and analyze your data from different perspectives.\n",
        "\n",
        "**How it works:**\n",
        "\n",
        "The `pivot_table()` function takes several arguments:\n",
        "\n",
        "*   `data`: The DataFrame to pivot.\n",
        "*   `values`: The column(s) to aggregate.\n",
        "*   `index`: The column(s) to use as the index of the pivot table (rows).\n",
        "*   `columns`: The column(s) to use as the columns of the pivot table.\n",
        "*   `aggfunc`: The aggregation function(s) to apply (default is `mean`).\n",
        "\n",
        "**Example:**\n",
        "\n",
        "Let's use the `df` DataFrame from a previous example:"
      ]
    },
    {
      "cell_type": "code",
      "metadata": {
        "colab": {
          "base_uri": "https://localhost:8080/"
        },
        "id": "85f6ecf2",
        "outputId": "ed21fcd5-b0ed-4809-b258-8e658ed34ccd"
      },
      "source": [
        "import pandas as pd\n",
        "import numpy as np\n",
        "\n",
        "data = {'Product': ['A', 'B', 'A', 'C', 'B', 'C'],\n",
        "        'Category': ['X', 'Y', 'X', 'Y', 'X', 'Y'],\n",
        "        'Sales': [100, 150, 120, 200, 180, 220]}\n",
        "df = pd.DataFrame(data)\n",
        "\n",
        "# Create a pivot table showing the sum of sales for each product in each category\n",
        "pivot = pd.pivot_table(df, values='Sales', index='Category', columns='Product', aggfunc=np.sum)\n",
        "\n",
        "print(pivot)"
      ],
      "execution_count": 8,
      "outputs": [
        {
          "output_type": "stream",
          "name": "stdout",
          "text": [
            "Product       A      B      C\n",
            "Category                     \n",
            "X         220.0  180.0    NaN\n",
            "Y           NaN  150.0  420.0\n"
          ]
        },
        {
          "output_type": "stream",
          "name": "stderr",
          "text": [
            "/tmp/ipython-input-3924331004.py:10: FutureWarning: The provided callable <function sum at 0x7a722f74b880> is currently using DataFrameGroupBy.sum. In a future version of pandas, the provided callable will be used directly. To keep current behavior pass the string \"sum\" instead.\n",
            "  pivot = pd.pivot_table(df, values='Sales', index='Category', columns='Product', aggfunc=np.sum)\n"
          ]
        }
      ]
    },
    {
      "cell_type": "markdown",
      "metadata": {
        "id": "907e35ff"
      },
      "source": [
        "In this example:\n",
        "\n",
        "*   `index='Category'` makes the unique values in the 'Category' column the rows of the pivot table.\n",
        "*   `columns='Product'` makes the unique values in the 'Product' column the columns of the pivot table.\n",
        "*   `values='Sales'` specifies that the 'Sales' column contains the values to be aggregated.\n",
        "*   `aggfunc=np.sum` specifies that the sum of sales should be calculated for each combination of category and product.\n",
        "\n",
        "The resulting pivot table will show the total sales for each product within each category.\n",
        "\n",
        "In summary, pivot tables in Pandas are essential for summarizing and reshaping data, making it easier to analyze and understand complex datasets."
      ]
    },
    {
      "cell_type": "markdown",
      "source": [
        "**21. Why is NumPy’s array slicing faster than Python’s list slicing**"
      ],
      "metadata": {
        "id": "NxwcopS28Bt4"
      }
    },
    {
      "cell_type": "markdown",
      "metadata": {
        "id": "286630fa"
      },
      "source": [
        "NumPy array slicing is significantly faster than Python list slicing primarily due to the underlying implementation and how memory is managed. Here are the key reasons:\n",
        "\n",
        "1.  **Contiguous Memory Allocation:** NumPy arrays are stored in contiguous blocks of memory. This means that all the elements of the array are located next to each other in memory. When you slice a NumPy array, NumPy can quickly calculate the memory addresses of the elements you want to access because they are in a predictable, sequential order.\n",
        "\n",
        "2.  **Fixed Data Type:** NumPy arrays are homogeneous, meaning all elements have the same data type. This allows NumPy to store the elements efficiently and know the size of each element beforehand. When slicing, NumPy doesn't need to check the data type of each individual element, which reduces overhead.\n",
        "\n",
        "3.  **Views, Not Copies (mostly):** In many cases, slicing a NumPy array returns a \"view\" of the original array, rather than creating a new copy of the data. This means that NumPy doesn't need to allocate new memory and copy the data when you slice, which is a much faster operation. (Note: There are some cases where slicing can result in a copy, but views are common).\n",
        "\n",
        "4.  **C Implementation:** NumPy is implemented in C, which is a lower-level language than Python. This allows NumPy to perform operations, including slicing, much closer to the hardware, resulting in better performance.\n",
        "\n",
        "**In contrast, Python lists:**\n",
        "\n",
        "1.  **Non-contiguous Memory:** Python lists store pointers to objects, and these objects can be scattered throughout memory. When you slice a Python list, Python needs to follow these pointers to access each element, which is less efficient than accessing contiguous memory.\n",
        "\n",
        "2.  **Dynamic Typing:** Python lists can contain elements of different data types. When slicing, Python needs to check the type of each element, which adds overhead.\n",
        "\n",
        "3.  **Copies:** Slicing a Python list typically creates a new list and copies the elements into it. This involves memory allocation and copying, which is slower than creating a view.\n",
        "\n",
        "**In summary:**\n",
        "\n",
        "NumPy's efficiency in slicing stems from its contiguous memory layout, fixed data types, the ability to create views instead of copies, and its C-based implementation. These factors allow NumPy to access and manipulate array elements much more quickly than Python lists."
      ]
    },
    {
      "cell_type": "markdown",
      "source": [
        "**22.A What are some common use cases for Seaborn**"
      ],
      "metadata": {
        "id": "t-sqO3VZ8K4t"
      }
    },
    {
      "cell_type": "markdown",
      "metadata": {
        "id": "fe12ebc8"
      },
      "source": [
        "Seaborn is a powerful library for creating statistical visualizations and is widely used in data analysis and exploration. Here are some common use cases for Seaborn:\n",
        "\n",
        "1.  **Exploring Relationships Between Variables:** Seaborn provides various plot types specifically designed to visualize the relationships between variables, such as:\n",
        "    *   **Scatter plots (`scatterplot`)**: To show the relationship between two numerical variables.\n",
        "    *   **Line plots (`lineplot`)**: To show the trend of a numerical variable over time or another ordered variable.\n",
        "    *   **Relational plots (`relplot`)**: A figure-level function that can draw scatter plots or line plots with the ability to use faceting (splitting the plot into multiple subplots based on categorical variables).\n",
        "\n",
        "2.  **Visualizing Distributions:** Seaborn offers several ways to visualize the distribution of a single variable or the distribution of a numerical variable within categories:\n",
        "    *   **Histograms (`histplot`)**: To show the frequency distribution of a numerical variable.\n",
        "    *   **Kernel Density Estimates (KDEs) (`kdeplot`)**: To show a smooth estimate of the probability density function.\n",
        "    *   **Distribution plots (`displot`)**: A figure-level function that can draw histograms or KDEs with faceting.\n",
        "    *   **Box plots (`boxplot`)**: To show the distribution of a numerical variable across different categories, highlighting quartiles and outliers.\n",
        "    *   **Violin plots (`violinplot`)**: Similar to box plots but also show the kernel density estimate of the distribution.\n",
        "    *   **Swarm plots (`swarmplot`)**: To show the distribution of individual data points, avoiding overlap.\n",
        "\n",
        "3.  **Visualizing Categorical Data:** Seaborn has specialized plots for visualizing data associated with categories:\n",
        "    *   **Bar plots (`barplot`)**: To show the mean or other aggregate of a numerical variable for each category.\n",
        "    *   **Count plots (`countplot`)**: To show the number of observations in each category.\n",
        "    *   **Categorical plots (`catplot`)**: A figure-level function that can draw various categorical plots with faceting.\n",
        "\n",
        "4.  **Plotting Statistical Models:** Seaborn can visualize the results of statistical models:\n",
        "    *   **Regression plots (`regplot`, `lmplot`)**: To visualize linear relationships between variables, including regression lines and confidence intervals.\n",
        "\n",
        "5.  **Creating Heatmaps (`heatmap`)**: As discussed earlier, heatmaps are a common use case for Seaborn to visualize matrix data, such as correlation matrices.\n",
        "\n",
        "6.  **Customizing Matplotlib Plots:** Seaborn can be used to enhance the aesthetics of Matplotlib plots by applying its themes and color palettes.\n",
        "\n",
        "In essence, Seaborn is a go-to library for creating informative and aesthetically pleasing statistical visualizations that are essential for understanding and communicating insights from data."
      ]
    },
    {
      "cell_type": "markdown",
      "source": [
        "# Practical"
      ],
      "metadata": {
        "id": "6SJAsu-r8WtW"
      }
    },
    {
      "cell_type": "markdown",
      "source": [
        "**1. How do you create a 2D NumPy array and calculate the sum of each row**"
      ],
      "metadata": {
        "id": "ygGb2qBk8YTb"
      }
    },
    {
      "cell_type": "code",
      "metadata": {
        "colab": {
          "base_uri": "https://localhost:8080/"
        },
        "id": "87d09d11",
        "outputId": "fcb2b79d-7afe-48e4-9f92-a6fdcc92be0f"
      },
      "source": [
        "import numpy as np\n",
        "\n",
        "# Create a 2D NumPy array\n",
        "array_2d = np.array([[1, 2, 3],\n",
        "                     [4, 5, 6],\n",
        "                     [7, 8, 9]])\n",
        "\n",
        "print(\"Original 2D array:\")\n",
        "print(array_2d)\n",
        "\n",
        "# Calculate the sum of each row (sum along axis 1)\n",
        "row_sums = np.sum(array_2d, axis=1)\n",
        "\n",
        "print(\"\\nSum of each row:\")\n",
        "print(row_sums)"
      ],
      "execution_count": 9,
      "outputs": [
        {
          "output_type": "stream",
          "name": "stdout",
          "text": [
            "Original 2D array:\n",
            "[[1 2 3]\n",
            " [4 5 6]\n",
            " [7 8 9]]\n",
            "\n",
            "Sum of each row:\n",
            "[ 6 15 24]\n"
          ]
        }
      ]
    },
    {
      "cell_type": "markdown",
      "source": [
        "**2.Write a Pandas script to find the mean of a specific column in a DataFrame**"
      ],
      "metadata": {
        "id": "sc9cMxMV8pam"
      }
    },
    {
      "cell_type": "code",
      "metadata": {
        "colab": {
          "base_uri": "https://localhost:8080/"
        },
        "id": "7614b820",
        "outputId": "4476d39c-d6ff-4608-f387-dd220517c2aa"
      },
      "source": [
        "# Find the mean of the 'Sales' column\n",
        "mean_sales = df['Sales'].mean()\n",
        "\n",
        "print(f\"The mean of the 'Sales' column is: {mean_sales}\")"
      ],
      "execution_count": 10,
      "outputs": [
        {
          "output_type": "stream",
          "name": "stdout",
          "text": [
            "The mean of the 'Sales' column is: 161.66666666666666\n"
          ]
        }
      ]
    },
    {
      "cell_type": "markdown",
      "source": [
        "**3.Create a scatter plot using Matplotlib**"
      ],
      "metadata": {
        "id": "fw8vxmPADvEq"
      }
    },
    {
      "cell_type": "code",
      "metadata": {
        "colab": {
          "base_uri": "https://localhost:8080/",
          "height": 564
        },
        "id": "6a1d0d21",
        "outputId": "784e705c-369b-43ee-9d35-93a212cc9e6a"
      },
      "source": [
        "import matplotlib.pyplot as plt\n",
        "import pandas as pd\n",
        "import numpy as np\n",
        "\n",
        "# Create a sample DataFrame\n",
        "data = {'X': np.random.rand(50),\n",
        "        'Y': np.random.rand(50)}\n",
        "df_plot = pd.DataFrame(data)\n",
        "\n",
        "# Create a scatter plot\n",
        "plt.figure(figsize=(8, 6))\n",
        "plt.scatter(df_plot['X'], df_plot['Y'])\n",
        "plt.title('Scatter Plot using Matplotlib')\n",
        "plt.xlabel('X-axis')\n",
        "plt.ylabel('Y-axis')\n",
        "plt.grid(True)\n",
        "plt.show()"
      ],
      "execution_count": 11,
      "outputs": [
        {
          "output_type": "display_data",
          "data": {
            "text/plain": [
              "<Figure size 800x600 with 1 Axes>"
            ],
            "image/png": "[encoded data removed]"
          },
          "metadata": {}
        }
      ]
    },
    {
      "cell_type": "markdown",
      "source": [
        "**4.How do you calculate the correlation matrix using Seaborn and visualize it with a heatmap**"
      ],
      "metadata": {
        "id": "BARhRD1eD8Gs"
      }
    },
    {
      "cell_type": "code",
      "metadata": {
        "colab": {
          "base_uri": "https://localhost:8080/",
          "height": 632
        },
        "id": "0d592814",
        "outputId": "083b96c3-327b-4b73-83d0-b72d2a8313b8"
      },
      "source": [
        "import pandas as pd\n",
        "import seaborn as sns\n",
        "import numpy as np\n",
        "import matplotlib.pyplot as plt\n",
        "\n",
        "# Create a sample DataFrame with numerical data\n",
        "# Define all columns in the data dictionary before creating the DataFrame\n",
        "data = {}\n",
        "data['A'] = np.random.rand(100)\n",
        "data['B'] = np.random.rand(100) * 2\n",
        "data['C'] = np.random.rand(100) * 0.5 + data['A'] # Create some correlation\n",
        "\n",
        "df_corr = pd.DataFrame(data)\n",
        "\n",
        "# Calculate the correlation matrix\n",
        "correlation_matrix = df_corr.corr()\n",
        "\n",
        "print(\"Correlation Matrix:\")\n",
        "print(correlation_matrix)\n",
        "\n",
        "# Visualize the correlation matrix using a heatmap\n",
        "plt.figure(figsize=(8, 6))\n",
        "sns.heatmap(correlation_matrix, annot=True, cmap='coolwarm', fmt=\".2f\", linewidths=.5)\n",
        "plt.title('Correlation Matrix Heatmap')\n",
        "plt.show()"
      ],
      "execution_count": 13,
      "outputs": [
        {
          "output_type": "stream",
          "name": "stdout",
          "text": [
            "Correlation Matrix:\n",
            "          A         B         C\n",
            "A  1.000000  0.036454  0.881677\n",
            "B  0.036454  1.000000  0.039173\n",
            "C  0.881677  0.039173  1.000000\n"
          ]
        },
        {
          "output_type": "display_data",
          "data": {
            "text/plain": [
              "<Figure size 800x600 with 2 Axes>"
            ],
            "image/png": "[encoded data removed]"
          },
          "metadata": {}
        }
      ]
    },
    {
      "cell_type": "markdown",
      "source": [
        "**5.Generate a bar plot using Plotly**"
      ],
      "metadata": {
        "id": "juh6Mh5jEM5F"
      }
    },
    {
      "cell_type": "code",
      "metadata": {
        "colab": {
          "base_uri": "https://localhost:8080/",
          "height": 542
        },
        "id": "5c655d51",
        "outputId": "76426522-5a80-4fcc-fbe7-401028dee5eb"
      },
      "source": [
        "import plotly.express as px\n",
        "import pandas as pd\n",
        "\n",
        "# Create a sample DataFrame\n",
        "data = {'Category': ['A', 'B', 'C', 'D', 'E'],\n",
        "        'Values': [10, 25, 13, 18, 22]}\n",
        "df_plotly = pd.DataFrame(data)\n",
        "\n",
        "# Create a bar plot using Plotly Express\n",
        "fig = px.bar(df_plotly, x='Category', y='Values', title='Bar Plot using Plotly')\n",
        "\n",
        "# Show the plot\n",
        "fig.show()"
      ],
      "execution_count": 14,
      "outputs": [
        {
          "output_type": "display_data",
          "data": {
            "text/html": [
              "<html>\n",
              "<head><meta charset=\"utf-8\" /></head>\n",
              "<body>\n",
              "    <div>            <script src=\"https://cdnjs.cloudflare.com/ajax/libs/mathjax/2.7.5/MathJax.js?config=TeX-AMS-MML_SVG\"></script><script type=\"text/javascript\">if (window.MathJax && window.MathJax.Hub && window.MathJax.Hub.Config) {window.MathJax.Hub.Config({SVG: {font: \"STIX-Web\"}});}</script>                <script type=\"text/javascript\">window.PlotlyConfig = {MathJaxConfig: 'local'};</script>\n",
              "        <script charset=\"utf-8\" src=\"https://cdn.plot.ly/plotly-2.35.2.min.js\"></script>                <div id=\"827fa8c8-a8fe-406c-98f4-322406ace3af\" class=\"plotly-graph-div\" style=\"height:525px; width:100%;\"></div>            <script type=\"text/javascript\">                                    window.PLOTLYENV=window.PLOTLYENV || {};                                    if (document.getElementById(\"827fa8c8-a8fe-406c-98f4-322406ace3af\")) {                    Plotly.newPlot(                        \"827fa8c8-a8fe-406c-98f4-322406ace3af\",                        [{\"alignmentgroup\":\"True\",\"hovertemplate\":\"Category=%{x}\\u003cbr\\u003eValues=%{y}\\u003cextra\\u003e\\u003c\\u002fextra\\u003e\",\"legendgroup\":\"\",\"marker\":{\"color\":\"#636efa\",\"pattern\":{\"shape\":\"\"}},\"name\":\"\",\"offsetgroup\":\"\",\"orientation\":\"v\",\"showlegend\":false,\"textposition\":\"auto\",\"x\":[\"A\",\"B\",\"C\",\"D\",\"E\"],\"xaxis\":\"x\",\"y\":[10,25,13,18,22],\"yaxis\":\"y\",\"type\":\"bar\"}],                        {\"template\":{\"data\":{\"histogram2dcontour\":[{\"type\":\"histogram2dcontour\",\"colorbar\":{\"outlinewidth\":0,\"ticks\":\"\"},\"colorscale\":[[0.0,\"#0d0887\"],[0.1111111111111111,\"#46039f\"],[0.2222222222222222,\"#7201a8\"],[0.3333333333333333,\"#9c179e\"],[0.4444444444444444,\"#bd3786\"],[0.5555555555555556,\"#d8576b\"],[0.6666666666666666,\"#ed7953\"],[0.7777777777777778,\"#fb9f3a\"],[0.8888888888888888,\"#fdca26\"],[1.0,\"#f0f921\"]]}],\"choropleth\":[{\"type\":\"choropleth\",\"colorbar\":{\"outlinewidth\":0,\"ticks\":\"\"}}],\"histogram2d\":[{\"type\":\"histogram2d\",\"colorbar\":{\"outlinewidth\":0,\"ticks\":\"\"},\"colorscale\":[[0.0,\"#0d0887\"],[0.1111111111111111,\"#46039f\"],[0.2222222222222222,\"#7201a8\"],[0.3333333333333333,\"#9c179e\"],[0.4444444444444444,\"#bd3786\"],[0.5555555555555556,\"#d8576b\"],[0.6666666666666666,\"#ed7953\"],[0.7777777777777778,\"#fb9f3a\"],[0.8888888888888888,\"#fdca26\"],[1.0,\"#f0f921\"]]}],\"heatmap\":[{\"type\":\"heatmap\",\"colorbar\":{\"outlinewidth\":0,\"ticks\":\"\"},\"colorscale\":[[0.0,\"#0d0887\"],[0.1111111111111111,\"#46039f\"],[0.2222222222222222,\"#7201a8\"],[0.3333333333333333,\"#9c179e\"],[0.4444444444444444,\"#bd3786\"],[0.5555555555555556,\"#d8576b\"],[0.6666666666666666,\"#ed7953\"],[0.7777777777777778,\"#fb9f3a\"],[0.8888888888888888,\"#fdca26\"],[1.0,\"#f0f921\"]]}],\"heatmapgl\":[{\"type\":\"heatmapgl\",\"colorbar\":{\"outlinewidth\":0,\"ticks\":\"\"},\"colorscale\":[[0.0,\"#0d0887\"],[0.1111111111111111,\"#46039f\"],[0.2222222222222222,\"#7201a8\"],[0.3333333333333333,\"#9c179e\"],[0.4444444444444444,\"#bd3786\"],[0.5555555555555556,\"#d8576b\"],[0.6666666666666666,\"#ed7953\"],[0.7777777777777778,\"#fb9f3a\"],[0.8888888888888888,\"#fdca26\"],[1.0,\"#f0f921\"]]}],\"contourcarpet\":[{\"type\":\"contourcarpet\",\"colorbar\":{\"outlinewidth\":0,\"ticks\":\"\"}}],\"contour\":[{\"type\":\"contour\",\"colorbar\":{\"outlinewidth\":0,\"ticks\":\"\"},\"colorscale\":[[0.0,\"#0d0887\"],[0.1111111111111111,\"#46039f\"],[0.2222222222222222,\"#7201a8\"],[0.3333333333333333,\"#9c179e\"],[0.4444444444444444,\"#bd3786\"],[0.5555555555555556,\"#d8576b\"],[0.6666666666666666,\"#ed7953\"],[0.7777777777777778,\"#fb9f3a\"],[0.8888888888888888,\"#fdca26\"],[1.0,\"#f0f921\"]]}],\"surface\":[{\"type\":\"surface\",\"colorbar\":{\"outlinewidth\":0,\"ticks\":\"\"},\"colorscale\":[[0.0,\"#0d0887\"],[0.1111111111111111,\"#46039f\"],[0.2222222222222222,\"#7201a8\"],[0.3333333333333333,\"#9c179e\"],[0.4444444444444444,\"#bd3786\"],[0.5555555555555556,\"#d8576b\"],[0.6666666666666666,\"#ed7953\"],[0.7777777777777778,\"#fb9f3a\"],[0.8888888888888888,\"#fdca26\"],[1.0,\"#f0f921\"]]}],\"mesh3d\":[{\"type\":\"mesh3d\",\"colorbar\":{\"outlinewidth\":0,\"ticks\":\"\"}}],\"scatter\":[{\"fillpattern\":{\"fillmode\":\"overlay\",\"size\":10,\"solidity\":0.2},\"type\":\"scatter\"}],\"parcoords\":[{\"type\":\"parcoords\",\"line\":{\"colorbar\":{\"outlinewidth\":0,\"ticks\":\"\"}}}],\"scatterpolargl\":[{\"type\":\"scatterpolargl\",\"marker\":{\"colorbar\":{\"outlinewidth\":0,\"ticks\":\"\"}}}],\"bar\":[{\"error_x\":{\"color\":\"#2a3f5f\"},\"error_y\":{\"color\":\"#2a3f5f\"},\"marker\":{\"line\":{\"color\":\"#E5ECF6\",\"width\":0.5},\"pattern\":{\"fillmode\":\"overlay\",\"size\":10,\"solidity\":0.2}},\"type\":\"bar\"}],\"scattergeo\":[{\"type\":\"scattergeo\",\"marker\":{\"colorbar\":{\"outlinewidth\":0,\"ticks\":\"\"}}}],\"scatterpolar\":[{\"type\":\"scatterpolar\",\"marker\":{\"colorbar\":{\"outlinewidth\":0,\"ticks\":\"\"}}}],\"histogram\":[{\"marker\":{\"pattern\":{\"fillmode\":\"overlay\",\"size\":10,\"solidity\":0.2}},\"type\":\"histogram\"}],\"scattergl\":[{\"type\":\"scattergl\",\"marker\":{\"colorbar\":{\"outlinewidth\":0,\"ticks\":\"\"}}}],\"scatter3d\":[{\"type\":\"scatter3d\",\"line\":{\"colorbar\":{\"outlinewidth\":0,\"ticks\":\"\"}},\"marker\":{\"colorbar\":{\"outlinewidth\":0,\"ticks\":\"\"}}}],\"scattermapbox\":[{\"type\":\"scattermapbox\",\"marker\":{\"colorbar\":{\"outlinewidth\":0,\"ticks\":\"\"}}}],\"scatterternary\":[{\"type\":\"scatterternary\",\"marker\":{\"colorbar\":{\"outlinewidth\":0,\"ticks\":\"\"}}}],\"scattercarpet\":[{\"type\":\"scattercarpet\",\"marker\":{\"colorbar\":{\"outlinewidth\":0,\"ticks\":\"\"}}}],\"carpet\":[{\"aaxis\":{\"endlinecolor\":\"#2a3f5f\",\"gridcolor\":\"white\",\"linecolor\":\"white\",\"minorgridcolor\":\"white\",\"startlinecolor\":\"#2a3f5f\"},\"baxis\":{\"endlinecolor\":\"#2a3f5f\",\"gridcolor\":\"white\",\"linecolor\":\"white\",\"minorgridcolor\":\"white\",\"startlinecolor\":\"#2a3f5f\"},\"type\":\"carpet\"}],\"table\":[{\"cells\":{\"fill\":{\"color\":\"#EBF0F8\"},\"line\":{\"color\":\"white\"}},\"header\":{\"fill\":{\"color\":\"#C8D4E3\"},\"line\":{\"color\":\"white\"}},\"type\":\"table\"}],\"barpolar\":[{\"marker\":{\"line\":{\"color\":\"#E5ECF6\",\"width\":0.5},\"pattern\":{\"fillmode\":\"overlay\",\"size\":10,\"solidity\":0.2}},\"type\":\"barpolar\"}],\"pie\":[{\"automargin\":true,\"type\":\"pie\"}]},\"layout\":{\"autotypenumbers\":\"strict\",\"colorway\":[\"#636efa\",\"#EF553B\",\"#00cc96\",\"#ab63fa\",\"#FFA15A\",\"#19d3f3\",\"#FF6692\",\"#B6E880\",\"#FF97FF\",\"#FECB52\"],\"font\":{\"color\":\"#2a3f5f\"},\"hovermode\":\"closest\",\"hoverlabel\":{\"align\":\"left\"},\"paper_bgcolor\":\"white\",\"plot_bgcolor\":\"#E5ECF6\",\"polar\":{\"bgcolor\":\"#E5ECF6\",\"angularaxis\":{\"gridcolor\":\"white\",\"linecolor\":\"white\",\"ticks\":\"\"},\"radialaxis\":{\"gridcolor\":\"white\",\"linecolor\":\"white\",\"ticks\":\"\"}},\"ternary\":{\"bgcolor\":\"#E5ECF6\",\"aaxis\":{\"gridcolor\":\"white\",\"linecolor\":\"white\",\"ticks\":\"\"},\"baxis\":{\"gridcolor\":\"white\",\"linecolor\":\"white\",\"ticks\":\"\"},\"caxis\":{\"gridcolor\":\"white\",\"linecolor\":\"white\",\"ticks\":\"\"}},\"coloraxis\":{\"colorbar\":{\"outlinewidth\":0,\"ticks\":\"\"}},\"colorscale\":{\"sequential\":[[0.0,\"#0d0887\"],[0.1111111111111111,\"#46039f\"],[0.2222222222222222,\"#7201a8\"],[0.3333333333333333,\"#9c179e\"],[0.4444444444444444,\"#bd3786\"],[0.5555555555555556,\"#d8576b\"],[0.6666666666666666,\"#ed7953\"],[0.7777777777777778,\"#fb9f3a\"],[0.8888888888888888,\"#fdca26\"],[1.0,\"#f0f921\"]],\"sequentialminus\":[[0.0,\"#0d0887\"],[0.1111111111111111,\"#46039f\"],[0.2222222222222222,\"#7201a8\"],[0.3333333333333333,\"#9c179e\"],[0.4444444444444444,\"#bd3786\"],[0.5555555555555556,\"#d8576b\"],[0.6666666666666666,\"#ed7953\"],[0.7777777777777778,\"#fb9f3a\"],[0.8888888888888888,\"#fdca26\"],[1.0,\"#f0f921\"]],\"diverging\":[[0,\"#8e0152\"],[0.1,\"#c51b7d\"],[0.2,\"#de77ae\"],[0.3,\"#f1b6da\"],[0.4,\"#fde0ef\"],[0.5,\"#f7f7f7\"],[0.6,\"#e6f5d0\"],[0.7,\"#b8e186\"],[0.8,\"#7fbc41\"],[0.9,\"#4d9221\"],[1,\"#276419\"]]},\"xaxis\":{\"gridcolor\":\"white\",\"linecolor\":\"white\",\"ticks\":\"\",\"title\":{\"standoff\":15},\"zerolinecolor\":\"white\",\"automargin\":true,\"zerolinewidth\":2},\"yaxis\":{\"gridcolor\":\"white\",\"linecolor\":\"white\",\"ticks\":\"\",\"title\":{\"standoff\":15},\"zerolinecolor\":\"white\",\"automargin\":true,\"zerolinewidth\":2},\"scene\":{\"xaxis\":{\"backgroundcolor\":\"#E5ECF6\",\"gridcolor\":\"white\",\"linecolor\":\"white\",\"showbackground\":true,\"ticks\":\"\",\"zerolinecolor\":\"white\",\"gridwidth\":2},\"yaxis\":{\"backgroundcolor\":\"#E5ECF6\",\"gridcolor\":\"white\",\"linecolor\":\"white\",\"showbackground\":true,\"ticks\":\"\",\"zerolinecolor\":\"white\",\"gridwidth\":2},\"zaxis\":{\"backgroundcolor\":\"#E5ECF6\",\"gridcolor\":\"white\",\"linecolor\":\"white\",\"showbackground\":true,\"ticks\":\"\",\"zerolinecolor\":\"white\",\"gridwidth\":2}},\"shapedefaults\":{\"line\":{\"color\":\"#2a3f5f\"}},\"annotationdefaults\":{\"arrowcolor\":\"#2a3f5f\",\"arrowhead\":0,\"arrowwidth\":1},\"geo\":{\"bgcolor\":\"white\",\"landcolor\":\"#E5ECF6\",\"subunitcolor\":\"white\",\"showland\":true,\"showlakes\":true,\"lakecolor\":\"white\"},\"title\":{\"x\":0.05},\"mapbox\":{\"style\":\"light\"}}},\"xaxis\":{\"anchor\":\"y\",\"domain\":[0.0,1.0],\"title\":{\"text\":\"Category\"}},\"yaxis\":{\"anchor\":\"x\",\"domain\":[0.0,1.0],\"title\":{\"text\":\"Values\"}},\"legend\":{\"tracegroupgap\":0},\"title\":{\"text\":\"Bar Plot using Plotly\"},\"barmode\":\"relative\"},                        {\"responsive\": true}                    ).then(function(){\n",
              "                            \n",
              "var gd = document.getElementById('827fa8c8-a8fe-406c-98f4-322406ace3af');\n",
              "var x = new MutationObserver(function (mutations, observer) {{\n",
              "        var display = window.getComputedStyle(gd).display;\n",
              "        if (!display || display === 'none') {{\n",
              "            console.log([gd, 'removed!']);\n",
              "            Plotly.purge(gd);\n",
              "            observer.disconnect();\n",
              "        }}\n",
              "}});\n",
              "\n",
              "// Listen for the removal of the full notebook cells\n",
              "var notebookContainer = gd.closest('#notebook-container');\n",
              "if (notebookContainer) {{\n",
              "    x.observe(notebookContainer, {childList: true});\n",
              "}}\n",
              "\n",
              "// Listen for the clearing of the current output cell\n",
              "var outputEl = gd.closest('.output');\n",
              "if (outputEl) {{\n",
              "    x.observe(outputEl, {childList: true});\n",
              "}}\n",
              "\n",
              "                        })                };                            </script>        </div>\n",
              "</body>\n",
              "</html>"
            ]
          },
          "metadata": {}
        }
      ]
    },
    {
      "cell_type": "markdown",
      "source": [
        "**6.Create a DataFrame and add a new column based on an existing column**"
      ],
      "metadata": {
        "id": "CBokwynxEZvp"
      }
    },
    {
      "cell_type": "code",
      "metadata": {
        "colab": {
          "base_uri": "https://localhost:8080/"
        },
        "id": "25220aaa",
        "outputId": "aef7cd7a-9655-4891-8677-3e5e7638bd02"
      },
      "source": [
        "import pandas as pd\n",
        "\n",
        "# Recreate the DataFrame if it doesn't exist (or use the existing one)\n",
        "data = {'Product': ['A', 'B', 'A', 'C', 'B', 'C'],\n",
        "        'Category': ['X', 'Y', 'X', 'Y', 'X', 'Y'],\n",
        "        'Sales': [100, 150, 120, 200, 180, 220]}\n",
        "df = pd.DataFrame(data)\n",
        "\n",
        "# Add a new column 'Sales_Status' based on the 'Sales' column\n",
        "# If Sales is greater than 150, the status is 'High', otherwise 'Low'\n",
        "df['Sales_Status'] = df['Sales'].apply(lambda x: 'High' if x > 150 else 'Low')\n",
        "\n",
        "print(df)"
      ],
      "execution_count": 15,
      "outputs": [
        {
          "output_type": "stream",
          "name": "stdout",
          "text": [
            "  Product Category  Sales Sales_Status\n",
            "0       A        X    100          Low\n",
            "1       B        Y    150          Low\n",
            "2       A        X    120          Low\n",
            "3       C        Y    200         High\n",
            "4       B        X    180         High\n",
            "5       C        Y    220         High\n"
          ]
        }
      ]
    },
    {
      "cell_type": "markdown",
      "source": [
        "**7.Write a program to perform element-wise multiplication of two NumPy arrays**"
      ],
      "metadata": {
        "id": "UsmTftQeEjM5"
      }
    },
    {
      "cell_type": "code",
      "metadata": {
        "colab": {
          "base_uri": "https://localhost:8080/"
        },
        "id": "b126f818",
        "outputId": "904dcba0-dd35-4587-fba2-cbb920699d9a"
      },
      "source": [
        "import numpy as np\n",
        "\n",
        "# Create two NumPy arrays\n",
        "array1 = np.array([[1, 2], [3, 4]])\n",
        "array2 = np.array([[5, 6], [7, 8]])\n",
        "\n",
        "print(\"Array 1:\")\n",
        "print(array1)\n",
        "print(\"\\nArray 2:\")\n",
        "print(array2)\n",
        "\n",
        "# Perform element-wise multiplication\n",
        "result_array = array1 * array2\n",
        "\n",
        "print(\"\\nResult of element-wise multiplication:\")\n",
        "print(result_array)"
      ],
      "execution_count": 16,
      "outputs": [
        {
          "output_type": "stream",
          "name": "stdout",
          "text": [
            "Array 1:\n",
            "[[1 2]\n",
            " [3 4]]\n",
            "\n",
            "Array 2:\n",
            "[[5 6]\n",
            " [7 8]]\n",
            "\n",
            "Result of element-wise multiplication:\n",
            "[[ 5 12]\n",
            " [21 32]]\n"
          ]
        }
      ]
    },
    {
      "cell_type": "markdown",
      "source": [
        "**8. Create a line plot with multiple lines using Matplotlib**"
      ],
      "metadata": {
        "id": "TpekbJ5kEtag"
      }
    },
    {
      "cell_type": "code",
      "metadata": {
        "colab": {
          "base_uri": "https://localhost:8080/",
          "height": 564
        },
        "id": "d1b45e4c",
        "outputId": "76536b36-f7d0-4b34-a15d-809d237b7d37"
      },
      "source": [
        "import matplotlib.pyplot as plt\n",
        "import numpy as np\n",
        "\n",
        "# Create sample data\n",
        "x = np.linspace(0, 10, 100)\n",
        "y1 = np.sin(x)\n",
        "y2 = np.cos(x)\n",
        "y3 = np.sin(x) * np.cos(x)\n",
        "\n",
        "# Create the line plot\n",
        "plt.figure(figsize=(10, 6))\n",
        "plt.plot(x, y1, label='sin(x)')\n",
        "plt.plot(x, y2, label='cos(x)')\n",
        "plt.plot(x, y3, label='sin(x) * cos(x)')\n",
        "\n",
        "plt.title('Line Plot with Multiple Lines')\n",
        "plt.xlabel('X-axis')\n",
        "plt.ylabel('Y-axis')\n",
        "plt.legend()\n",
        "plt.grid(True)\n",
        "plt.show()"
      ],
      "execution_count": 17,
      "outputs": [
        {
          "output_type": "display_data",
          "data": {
            "text/plain": [
              "<Figure size 1000x600 with 1 Axes>"
            ],
            "image/png": "[encoded data removed]"
          },
          "metadata": {}
        }
      ]
    },
    {
      "cell_type": "markdown",
      "source": [
        "**9.A Generate a Pandas DataFrame and filter rows where a column value is greater than a threshold**"
      ],
      "metadata": {
        "id": "9SqHbpM_E11I"
      }
    },
    {
      "cell_type": "code",
      "metadata": {
        "colab": {
          "base_uri": "https://localhost:8080/"
        },
        "id": "86223b3a",
        "outputId": "e06bf409-7c54-4186-e8fe-61c1b1a0967f"
      },
      "source": [
        "import pandas as pd\n",
        "\n",
        "# Recreate the DataFrame if it doesn't exist (or use the existing one)\n",
        "data = {'Product': ['A', 'B', 'A', 'C', 'B', 'C'],\n",
        "        'Category': ['X', 'Y', 'X', 'Y', 'X', 'Y'],\n",
        "        'Sales': [100, 150, 120, 200, 180, 220]}\n",
        "df = pd.DataFrame(data)\n",
        "\n",
        "# Define a threshold\n",
        "threshold = 150\n",
        "\n",
        "# Filter rows where the 'Sales' column is greater than the threshold\n",
        "filtered_df = df[df['Sales'] > threshold]\n",
        "\n",
        "print(f\"Original DataFrame:\")\n",
        "print(df)\n",
        "\n",
        "print(f\"\\nDataFrame filtered where Sales > {threshold}:\")\n",
        "print(filtered_df)"
      ],
      "execution_count": 18,
      "outputs": [
        {
          "output_type": "stream",
          "name": "stdout",
          "text": [
            "Original DataFrame:\n",
            "  Product Category  Sales\n",
            "0       A        X    100\n",
            "1       B        Y    150\n",
            "2       A        X    120\n",
            "3       C        Y    200\n",
            "4       B        X    180\n",
            "5       C        Y    220\n",
            "\n",
            "DataFrame filtered where Sales > 150:\n",
            "  Product Category  Sales\n",
            "3       C        Y    200\n",
            "4       B        X    180\n",
            "5       C        Y    220\n"
          ]
        }
      ]
    },
    {
      "cell_type": "markdown",
      "source": [
        "**10.A Create a histogram using Seaborn to visualize a distribution**"
      ],
      "metadata": {
        "id": "BSAsFZETE9Oz"
      }
    },
    {
      "cell_type": "code",
      "metadata": {
        "colab": {
          "base_uri": "https://localhost:8080/",
          "height": 564
        },
        "id": "0800989a",
        "outputId": "7ca24509-1cbe-40e1-9b35-522b69e4c156"
      },
      "source": [
        "import seaborn as sns\n",
        "import matplotlib.pyplot as plt\n",
        "import numpy as np\n",
        "import pandas as pd\n",
        "\n",
        "# Create a sample DataFrame with a numerical column\n",
        "data = {'Values': np.random.randn(1000)}\n",
        "df_hist = pd.DataFrame(data)\n",
        "\n",
        "# Create a histogram using Seaborn\n",
        "plt.figure(figsize=(8, 6))\n",
        "sns.histplot(data=df_hist, x='Values', kde=True)\n",
        "plt.title('Histogram using Seaborn')\n",
        "plt.xlabel('Values')\n",
        "plt.ylabel('Frequency')\n",
        "plt.show()"
      ],
      "execution_count": 19,
      "outputs": [
        {
          "output_type": "display_data",
          "data": {
            "text/plain": [
              "<Figure size 800x600 with 1 Axes>"
            ],
            "image/png": "[encoded data removed]"
          },
          "metadata": {}
        }
      ]
    },
    {
      "cell_type": "markdown",
      "source": [
        "**11.A Perform matrix multiplication using NumPy**"
      ],
      "metadata": {
        "id": "RxwXvumOFNiO"
      }
    },
    {
      "cell_type": "code",
      "metadata": {
        "colab": {
          "base_uri": "https://localhost:8080/"
        },
        "id": "f167a4ab",
        "outputId": "f443f130-9f7f-4c82-9681-94ce35cd77cc"
      },
      "source": [
        "import numpy as np\n",
        "\n",
        "# Create two matrices (NumPy arrays) suitable for multiplication\n",
        "matrix1 = np.array([[1, 2],\n",
        "                    [3, 4]])\n",
        "\n",
        "matrix2 = np.array([[5, 6],\n",
        "                    [7, 8]])\n",
        "\n",
        "print(\"Matrix 1:\")\n",
        "print(matrix1)\n",
        "print(\"\\nMatrix 2:\")\n",
        "print(matrix2)\n",
        "\n",
        "# Perform matrix multiplication using the @ operator or np.dot()\n",
        "# Using the @ operator (preferred for matrix multiplication in Python 3.5+)\n",
        "result_matrix_at = matrix1 @ matrix2\n",
        "print(\"\\nResult of matrix multiplication (using @ operator):\")\n",
        "print(result_matrix_at)\n",
        "\n",
        "# Using np.dot() (works for both matrix and vector multiplication)\n",
        "result_matrix_dot = np.dot(matrix1, matrix2)\n",
        "print(\"\\nResult of matrix multiplication (using np.dot()):\")\n",
        "print(result_matrix_dot)"
      ],
      "execution_count": 20,
      "outputs": [
        {
          "output_type": "stream",
          "name": "stdout",
          "text": [
            "Matrix 1:\n",
            "[[1 2]\n",
            " [3 4]]\n",
            "\n",
            "Matrix 2:\n",
            "[[5 6]\n",
            " [7 8]]\n",
            "\n",
            "Result of matrix multiplication (using @ operator):\n",
            "[[19 22]\n",
            " [43 50]]\n",
            "\n",
            "Result of matrix multiplication (using np.dot()):\n",
            "[[19 22]\n",
            " [43 50]]\n"
          ]
        }
      ]
    },
    {
      "cell_type": "markdown",
      "source": [
        "**12.A Use Pandas to load a CSV file and display its first 5 rows**"
      ],
      "metadata": {
        "id": "YUT6dWGVFXRI"
      }
    },
    {
      "cell_type": "code",
      "metadata": {
        "colab": {
          "base_uri": "https://localhost:8080/"
        },
        "id": "55409f1f",
        "outputId": "7b66e73d-32a6-4d60-bfe7-dd089a23c3ce"
      },
      "source": [
        "import pandas as pd\n",
        "\n",
        "# Replace '/path/to/your/file.csv' with the actual path to your CSV file\n",
        "try:\n",
        "    df_csv = pd.read_csv('/path/to/your/file.csv')\n",
        "\n",
        "    # Display the first 5 rows\n",
        "    print(\"First 5 rows of the DataFrame:\")\n",
        "    display(df_csv.head())\n",
        "\n",
        "except FileNotFoundError:\n",
        "    print(\"Error: The file was not found. Please check the file path.\")\n",
        "except Exception as e:\n",
        "    print(f\"An error occurred: {e}\")"
      ],
      "execution_count": 22,
      "outputs": [
        {
          "output_type": "stream",
          "name": "stdout",
          "text": [
            "Error: The file was not found. Please check the file path.\n"
          ]
        }
      ]
    },
    {
      "cell_type": "markdown",
      "source": [
        "**13.A Create a 3D scatter plot using Plotly**"
      ],
      "metadata": {
        "id": "fuBF83XIFuKT"
      }
    },
    {
      "cell_type": "code",
      "metadata": {
        "colab": {
          "base_uri": "https://localhost:8080/",
          "height": 542
        },
        "id": "79e24c06",
        "outputId": "d89d4fc3-f6cf-406e-a1d2-3c4a65cef5b4"
      },
      "source": [
        "import plotly.express as px\n",
        "import pandas as pd\n",
        "import numpy as np\n",
        "\n",
        "# Create sample 3D data\n",
        "data = {'X': np.random.rand(100),\n",
        "        'Y': np.random.rand(100),\n",
        "        'Z': np.random.rand(100),\n",
        "        'Size': np.random.rand(100) * 30, # for marker size\n",
        "        'Color': np.random.rand(100)} # for marker color\n",
        "\n",
        "df_3d = pd.DataFrame(data)\n",
        "\n",
        "# Create a 3D scatter plot using Plotly Express\n",
        "fig = px.scatter_3d(df_3d, x='X', y='Y', z='Z',\n",
        "                    size='Size', color='Color',\n",
        "                    title='3D Scatter Plot using Plotly')\n",
        "\n",
        "# Show the plot\n",
        "fig.show()"
      ],
      "execution_count": 23,
      "outputs": [
        {
          "output_type": "display_data",
          "data": {
            "text/html": [
              "<html>\n",
              "<head><meta charset=\"utf-8\" /></head>\n",
              "<body>\n",
              "    <div>            <script src=\"https://cdnjs.cloudflare.com/ajax/libs/mathjax/2.7.5/MathJax.js?config=TeX-AMS-MML_SVG\"></script><script type=\"text/javascript\">if (window.MathJax && window.MathJax.Hub && window.MathJax.Hub.Config) {window.MathJax.Hub.Config({SVG: {font: \"STIX-Web\"}});}</script>                <script type=\"text/javascript\">window.PlotlyConfig = {MathJaxConfig: 'local'};</script>\n",
              "        <script charset=\"utf-8\" src=\"https://cdn.plot.ly/plotly-2.35.2.min.js\"></script>                <div id=\"9fc6f7fb-a37a-4e28-b46b-809d4622491a\" class=\"plotly-graph-div\" style=\"height:525px; width:100%;\"></div>            <script type=\"text/javascript\">                                    window.PLOTLYENV=window.PLOTLYENV || {};                                    if (document.getElementById(\"9fc6f7fb-a37a-4e28-b46b-809d4622491a\")) {                    Plotly.newPlot(                        \"9fc6f7fb-a37a-4e28-b46b-809d4622491a\",                        [{\"hovertemplate\":\"X=%{x}\\u003cbr\\u003eY=%{y}\\u003cbr\\u003eZ=%{z}\\u003cbr\\u003eSize=%{marker.size}\\u003cbr\\u003eColor=%{marker.color}\\u003cextra\\u003e\\u003c\\u002fextra\\u003e\",\"legendgroup\":\"\",\"marker\":{\"color\":[0.04042935967891459,0.6187861409465086,0.5649911939253032,0.21674389211701528,0.4261265791836514,0.20805065241064358,0.6320950130519813,0.6756813444858536,0.30509432654856306,0.03101121671063256,0.6629973104365899,0.9855094017684028,0.10149672351110017,0.4813303410087759,0.9431891744504407,0.27064796301999494,0.8617693656630405,0.2594755807141248,0.08226206200559516,0.8557827933433684,0.3001159399370894,0.5429915345591214,0.24895490069981419,0.7629527535003587,0.09309935868593666,0.6091103178731976,0.20140773211224428,0.2429305447023663,0.5490715996946841,0.027283963747880002,0.20633143456796688,0.0203369114974552,0.7193091187253537,0.8342201098925088,0.3525268501669929,0.8982664215319762,0.07321516195301492,0.1060517380802003,0.5474738274182841,0.007869820131354288,0.20833763736811217,0.8033160703722616,0.6531243762026251,0.9863457765093528,0.5306053865841165,0.40467417045057663,0.05737173601443546,0.0783325188095585,0.9618172023827408,0.059830618408729386,0.3607552157789403,0.6685528560347331,0.15104396210035775,0.22890262062638833,0.19185339885957664,0.5632508077523797,0.7605375433274824,0.41421306798393154,0.7003019602429099,0.12352101588445785,0.4755096965822737,0.9244696874220305,0.8749918791617032,0.8906597470679007,0.6267259262046676,0.739980656564318,0.14317901693010904,0.9119513852752535,0.10225572534068228,0.4024732730747753,0.44551823628362763,0.30009921518184124,0.2417107820782426,0.7405198276293883,0.06431672624182927,0.14737121147686083,0.20012062142085718,0.5500213744305898,0.47040499526832513,0.6388557811009982,0.5746999830730535,0.08798925960494364,0.48863831282205206,0.5671141023443228,0.6562433865345548,0.25913360134196217,0.8012377824165114,0.23956712740913588,0.6517184941347536,0.4450807620098428,0.07450952238926445,0.8678806888519414,0.7245205198791117,0.5935975340066841,0.9129636286220164,0.14542034240049295,0.019153795371591897,0.19054146444010578,0.6652930446077934,0.7631696178386506],\"coloraxis\":\"coloraxis\",\"size\":[2.6077817820474545,17.873074712767767,23.019621026240912,16.719604800471032,21.330614291933415,19.3950750209047,16.62233596323794,11.382890622666372,15.514115536989788,1.110758555139446,20.649076611623553,0.47709494371233285,8.565542599186111,8.412224270727794,12.22073980657101,21.382028487001023,5.155628485847769,1.3018416737028604,3.511319779933333,28.79322837942713,26.270899701785353,9.821142049353318,1.0678035741802894,1.4061066952228751,27.34918645216265,12.564118751602567,4.673342065878471,13.555047237825683,8.317524390531924,11.286409462856025,19.558484899708162,2.557454169680166,23.87304324604329,11.971922820049057,18.60084556165855,20.453061284587076,5.5313556422248,20.71950632255555,17.428676246721864,21.08940451844048,28.780905074058076,0.49613509681726176,7.179393289169424,8.863887130864379,6.684806449247574,20.10100886921302,14.908300565157958,23.769782671066697,11.547505379456954,4.697504668819254,15.640178950297459,29.229828147812952,24.370707662423335,10.990950398304195,9.313766335607589,21.483312529071377,14.738325189472512,29.32995869365754,23.574865998371557,25.246128531074103,29.10233704925179,10.425648716712535,9.560256493857347,13.548400570948125,12.749044249227097,20.370080857774827,26.434241347114593,10.808507904031968,7.972319044996313,7.1534471413727,15.706086963001603,23.487559360470122,23.512425375458147,9.574056453917873,13.182360282376763,18.628601872346014,4.959740818355267,28.97198287909896,11.744852539266669,9.390810668211362,8.258953495524748,27.507845586293485,11.176578449123305,27.606129257853322,7.141585245096635,12.266726131524116,19.54831839009049,18.791850583753448,24.309470063006422,24.660523931671896,26.91437335244587,4.671482050190896,10.171647001668303,13.6428081275971,1.8425139052224404,16.203546272646758,16.976736126733986,24.521666414135243,8.332511026431286,26.42470734200626],\"sizemode\":\"area\",\"sizeref\":0.07332489673414386,\"symbol\":\"circle\"},\"mode\":\"markers\",\"name\":\"\",\"scene\":\"scene\",\"showlegend\":false,\"x\":[0.12480927974431633,0.6350164175968138,0.09588554684338513,0.7518089188469409,0.3604108616652313,0.6063659546400891,0.3044130763565883,0.705315917884276,0.08976916223242704,0.049501970519274296,0.7030614658094665,0.23716271893844998,0.853335382219107,0.5431513959918318,0.13077343360569205,0.9938304442856796,0.2857740896819071,0.8494688000275428,0.040602592972922236,0.2974039682972679,0.8287018131201185,0.19635410737336523,0.24024939096723963,0.5237123634382019,0.10207574837829925,0.37566465183441244,0.5000469148897091,0.7441785551272406,0.10182657408485107,0.7756519874768453,0.48584533924439044,0.18530073975172412,0.9215299590865631,0.3999771086061429,0.7184463209701272,0.00680800142523541,0.7336697981530911,0.8400367524257246,0.5366014133171607,0.6885365429719833,0.919915772105497,0.6967257033520889,0.7601038870033512,0.426478087841878,0.04605656800440061,0.06802869280870738,0.6692101158754125,0.33891235409049014,0.7239059539579222,0.16307431155112972,0.3252361106247069,0.6996156329222065,0.5201486235162254,0.28126465872954065,0.0033739262245048307,0.7992932436674552,0.036318030710520866,0.1379628257619867,0.6486205623861772,0.1825609354485126,0.45688852076762965,0.22113138387148246,0.8453407386318069,0.143804298468601,0.029953036270305322,0.5222945545516906,0.7162123402476839,0.23128598197242412,0.19861929860150607,0.6320924752124566,0.9283269277785658,0.5354712075441275,0.8650729772049206,0.5302755329795005,0.15682883484751264,0.9779464139050326,0.9968795407352745,0.7220044619323402,0.9544675649099404,0.9587485333386154,0.21574880982344347,0.8846794074386318,0.003742491811625559,0.39198949550502105,0.628761782465857,0.26000289326850645,0.41343808304757934,0.3653849096616849,0.37298108747941794,0.9000179682539132,0.29221703286100364,0.9780380435135362,0.06672089128049119,0.14747132666177676,0.03658230539652152,0.3888562850599696,0.6171900403000193,0.7363966364312752,0.06084598311099554,0.8891951970131211],\"y\":[0.9201645732998782,0.5292682077503629,0.13555109726028836,0.25271753952050613,0.224978582903269,0.4358982150593742,0.23544658615790226,0.5525726576664639,0.6675791158618988,0.15113020577330083,0.8654122788126328,0.8304398537478442,0.9760322975290942,0.7671316680078102,0.3232234380581581,0.2113894775768126,0.6554549816910206,0.417450477646066,0.49367224858042036,0.7634114356524436,0.45237542494995653,0.818653741554391,0.041226830388440106,0.677677525268959,0.649838980857374,0.9214328312222839,0.3946067093042941,0.9595267601962464,0.10805709413022024,0.4590064932575324,0.14895019611269733,0.4476984673965978,0.41706992939835963,0.13446378098617795,0.5613571379508298,0.4601342618497072,0.6640307650773006,0.5533815461971286,0.7940202911225015,0.09633024044172112,0.15030050238529946,0.8290523440038626,0.20909493849727023,0.7687140895700258,0.2039400644785886,0.37060764571157745,0.20925652514859916,0.06505394799749897,0.40233884816666865,0.9056293630570579,0.6101120102221642,0.18981567263419896,0.9016987052691054,0.3852837631851471,0.4823077794580233,0.8581046138581068,0.43153580910966927,0.3672074575859795,0.7643073599691668,0.5173252406272327,0.11810332566708492,0.03393034686359597,0.3116206315107187,0.8089696634161139,0.541766801104776,0.4827808351447648,0.551409831325125,0.39488002303273195,0.3796453655124469,0.1924080514159029,0.5650944699984023,0.8153083160708846,0.04995102603300483,0.7683479714427153,0.19767756216349286,0.8576217044240984,0.29758099039009855,0.05741261359894867,0.28923636474141545,0.4680491295397581,0.28623347424625645,0.1909356249051305,0.48332771328122426,0.36939348933507155,0.23064727941920915,0.7826596114091393,0.6359820941526395,0.020462563419203272,0.9774969120861258,0.21695552522859618,0.9867955533111176,0.45433143264110565,0.25426098523502216,0.776590301148981,0.3807210874193072,0.3383298269094277,0.7933179893540844,0.04637291506142549,0.4903033031626475,0.2668676420342877],\"z\":[0.04960727304647883,0.8092472721594832,0.030165048476020417,0.7225512546680949,0.1773177630268299,0.02213775749585134,0.17443233550855486,0.5863468734127628,0.4407321072071587,0.38467417543834814,0.28520253047666233,0.7915191560712954,0.8733497201106563,0.6308579195553473,0.7210525390411302,0.5672027060177528,0.5196855685491985,0.1670249052718248,0.0038674069322834903,0.6552419612340379,0.18716524212897623,0.2776499019068964,0.7570898489097397,0.33303990342358414,0.688412732057143,0.5660182733895159,0.37067938842960424,0.33366487924574584,0.2629632184605002,0.6529668929300729,0.7815587390217938,0.19696115101572886,0.735370134335817,0.736795891490578,0.39520316891908114,0.3959869643693612,0.7658956347535281,0.2061620671418195,0.5528495346969855,0.7175580389934658,0.6272606491857237,0.20612952877085822,0.23906249386422973,0.29950586272702884,0.1501600943710738,0.7425947491606898,0.31495459385384683,0.23349544679292478,0.5819904188617235,0.8767083605617884,0.07483091864723246,0.21810123520537172,0.11289547933337496,0.6601349445649485,0.8053792869531438,0.49583926306617176,0.8447405378387859,0.32664244528225306,0.8692678307152231,0.547462755188276,0.39973385280538587,0.5289327576530957,0.5766303003062722,0.48858788399735575,0.9286608625351488,0.6635596312492171,0.29566704233810215,0.36853945186813153,0.21708917097371427,0.7259579394401606,0.6300239045486525,0.9631441489733089,0.8689138095898367,0.7685096576781992,0.3329325660383613,0.4525037276777676,0.4910775459736022,0.48247038792260266,0.5972082726156345,0.01931488533329162,0.4615256632905661,0.5154340022506629,0.9252029612137296,0.8597910197990143,0.022635067865116376,0.6574400602060325,0.9172935965205284,0.9195216368639694,0.17793369312618934,0.9234688261256773,0.14201425564852022,0.8866383164852446,0.027129133579965714,0.8915640983004895,0.5233513170414494,0.09221250092308597,0.4646180390111522,0.4033469777578763,0.17212133257851336,0.11277976484128216],\"type\":\"scatter3d\"}],                        {\"template\":{\"data\":{\"histogram2dcontour\":[{\"type\":\"histogram2dcontour\",\"colorbar\":{\"outlinewidth\":0,\"ticks\":\"\"},\"colorscale\":[[0.0,\"#0d0887\"],[0.1111111111111111,\"#46039f\"],[0.2222222222222222,\"#7201a8\"],[0.3333333333333333,\"#9c179e\"],[0.4444444444444444,\"#bd3786\"],[0.5555555555555556,\"#d8576b\"],[0.6666666666666666,\"#ed7953\"],[0.7777777777777778,\"#fb9f3a\"],[0.8888888888888888,\"#fdca26\"],[1.0,\"#f0f921\"]]}],\"choropleth\":[{\"type\":\"choropleth\",\"colorbar\":{\"outlinewidth\":0,\"ticks\":\"\"}}],\"histogram2d\":[{\"type\":\"histogram2d\",\"colorbar\":{\"outlinewidth\":0,\"ticks\":\"\"},\"colorscale\":[[0.0,\"#0d0887\"],[0.1111111111111111,\"#46039f\"],[0.2222222222222222,\"#7201a8\"],[0.3333333333333333,\"#9c179e\"],[0.4444444444444444,\"#bd3786\"],[0.5555555555555556,\"#d8576b\"],[0.6666666666666666,\"#ed7953\"],[0.7777777777777778,\"#fb9f3a\"],[0.8888888888888888,\"#fdca26\"],[1.0,\"#f0f921\"]]}],\"heatmap\":[{\"type\":\"heatmap\",\"colorbar\":{\"outlinewidth\":0,\"ticks\":\"\"},\"colorscale\":[[0.0,\"#0d0887\"],[0.1111111111111111,\"#46039f\"],[0.2222222222222222,\"#7201a8\"],[0.3333333333333333,\"#9c179e\"],[0.4444444444444444,\"#bd3786\"],[0.5555555555555556,\"#d8576b\"],[0.6666666666666666,\"#ed7953\"],[0.7777777777777778,\"#fb9f3a\"],[0.8888888888888888,\"#fdca26\"],[1.0,\"#f0f921\"]]}],\"heatmapgl\":[{\"type\":\"heatmapgl\",\"colorbar\":{\"outlinewidth\":0,\"ticks\":\"\"},\"colorscale\":[[0.0,\"#0d0887\"],[0.1111111111111111,\"#46039f\"],[0.2222222222222222,\"#7201a8\"],[0.3333333333333333,\"#9c179e\"],[0.4444444444444444,\"#bd3786\"],[0.5555555555555556,\"#d8576b\"],[0.6666666666666666,\"#ed7953\"],[0.7777777777777778,\"#fb9f3a\"],[0.8888888888888888,\"#fdca26\"],[1.0,\"#f0f921\"]]}],\"contourcarpet\":[{\"type\":\"contourcarpet\",\"colorbar\":{\"outlinewidth\":0,\"ticks\":\"\"}}],\"contour\":[{\"type\":\"contour\",\"colorbar\":{\"outlinewidth\":0,\"ticks\":\"\"},\"colorscale\":[[0.0,\"#0d0887\"],[0.1111111111111111,\"#46039f\"],[0.2222222222222222,\"#7201a8\"],[0.3333333333333333,\"#9c179e\"],[0.4444444444444444,\"#bd3786\"],[0.5555555555555556,\"#d8576b\"],[0.6666666666666666,\"#ed7953\"],[0.7777777777777778,\"#fb9f3a\"],[0.8888888888888888,\"#fdca26\"],[1.0,\"#f0f921\"]]}],\"surface\":[{\"type\":\"surface\",\"colorbar\":{\"outlinewidth\":0,\"ticks\":\"\"},\"colorscale\":[[0.0,\"#0d0887\"],[0.1111111111111111,\"#46039f\"],[0.2222222222222222,\"#7201a8\"],[0.3333333333333333,\"#9c179e\"],[0.4444444444444444,\"#bd3786\"],[0.5555555555555556,\"#d8576b\"],[0.6666666666666666,\"#ed7953\"],[0.7777777777777778,\"#fb9f3a\"],[0.8888888888888888,\"#fdca26\"],[1.0,\"#f0f921\"]]}],\"mesh3d\":[{\"type\":\"mesh3d\",\"colorbar\":{\"outlinewidth\":0,\"ticks\":\"\"}}],\"scatter\":[{\"fillpattern\":{\"fillmode\":\"overlay\",\"size\":10,\"solidity\":0.2},\"type\":\"scatter\"}],\"parcoords\":[{\"type\":\"parcoords\",\"line\":{\"colorbar\":{\"outlinewidth\":0,\"ticks\":\"\"}}}],\"scatterpolargl\":[{\"type\":\"scatterpolargl\",\"marker\":{\"colorbar\":{\"outlinewidth\":0,\"ticks\":\"\"}}}],\"bar\":[{\"error_x\":{\"color\":\"#2a3f5f\"},\"error_y\":{\"color\":\"#2a3f5f\"},\"marker\":{\"line\":{\"color\":\"#E5ECF6\",\"width\":0.5},\"pattern\":{\"fillmode\":\"overlay\",\"size\":10,\"solidity\":0.2}},\"type\":\"bar\"}],\"scattergeo\":[{\"type\":\"scattergeo\",\"marker\":{\"colorbar\":{\"outlinewidth\":0,\"ticks\":\"\"}}}],\"scatterpolar\":[{\"type\":\"scatterpolar\",\"marker\":{\"colorbar\":{\"outlinewidth\":0,\"ticks\":\"\"}}}],\"histogram\":[{\"marker\":{\"pattern\":{\"fillmode\":\"overlay\",\"size\":10,\"solidity\":0.2}},\"type\":\"histogram\"}],\"scattergl\":[{\"type\":\"scattergl\",\"marker\":{\"colorbar\":{\"outlinewidth\":0,\"ticks\":\"\"}}}],\"scatter3d\":[{\"type\":\"scatter3d\",\"line\":{\"colorbar\":{\"outlinewidth\":0,\"ticks\":\"\"}},\"marker\":{\"colorbar\":{\"outlinewidth\":0,\"ticks\":\"\"}}}],\"scattermapbox\":[{\"type\":\"scattermapbox\",\"marker\":{\"colorbar\":{\"outlinewidth\":0,\"ticks\":\"\"}}}],\"scatterternary\":[{\"type\":\"scatterternary\",\"marker\":{\"colorbar\":{\"outlinewidth\":0,\"ticks\":\"\"}}}],\"scattercarpet\":[{\"type\":\"scattercarpet\",\"marker\":{\"colorbar\":{\"outlinewidth\":0,\"ticks\":\"\"}}}],\"carpet\":[{\"aaxis\":{\"endlinecolor\":\"#2a3f5f\",\"gridcolor\":\"white\",\"linecolor\":\"white\",\"minorgridcolor\":\"white\",\"startlinecolor\":\"#2a3f5f\"},\"baxis\":{\"endlinecolor\":\"#2a3f5f\",\"gridcolor\":\"white\",\"linecolor\":\"white\",\"minorgridcolor\":\"white\",\"startlinecolor\":\"#2a3f5f\"},\"type\":\"carpet\"}],\"table\":[{\"cells\":{\"fill\":{\"color\":\"#EBF0F8\"},\"line\":{\"color\":\"white\"}},\"header\":{\"fill\":{\"color\":\"#C8D4E3\"},\"line\":{\"color\":\"white\"}},\"type\":\"table\"}],\"barpolar\":[{\"marker\":{\"line\":{\"color\":\"#E5ECF6\",\"width\":0.5},\"pattern\":{\"fillmode\":\"overlay\",\"size\":10,\"solidity\":0.2}},\"type\":\"barpolar\"}],\"pie\":[{\"automargin\":true,\"type\":\"pie\"}]},\"layout\":{\"autotypenumbers\":\"strict\",\"colorway\":[\"#636efa\",\"#EF553B\",\"#00cc96\",\"#ab63fa\",\"#FFA15A\",\"#19d3f3\",\"#FF6692\",\"#B6E880\",\"#FF97FF\",\"#FECB52\"],\"font\":{\"color\":\"#2a3f5f\"},\"hovermode\":\"closest\",\"hoverlabel\":{\"align\":\"left\"},\"paper_bgcolor\":\"white\",\"plot_bgcolor\":\"#E5ECF6\",\"polar\":{\"bgcolor\":\"#E5ECF6\",\"angularaxis\":{\"gridcolor\":\"white\",\"linecolor\":\"white\",\"ticks\":\"\"},\"radialaxis\":{\"gridcolor\":\"white\",\"linecolor\":\"white\",\"ticks\":\"\"}},\"ternary\":{\"bgcolor\":\"#E5ECF6\",\"aaxis\":{\"gridcolor\":\"white\",\"linecolor\":\"white\",\"ticks\":\"\"},\"baxis\":{\"gridcolor\":\"white\",\"linecolor\":\"white\",\"ticks\":\"\"},\"caxis\":{\"gridcolor\":\"white\",\"linecolor\":\"white\",\"ticks\":\"\"}},\"coloraxis\":{\"colorbar\":{\"outlinewidth\":0,\"ticks\":\"\"}},\"colorscale\":{\"sequential\":[[0.0,\"#0d0887\"],[0.1111111111111111,\"#46039f\"],[0.2222222222222222,\"#7201a8\"],[0.3333333333333333,\"#9c179e\"],[0.4444444444444444,\"#bd3786\"],[0.5555555555555556,\"#d8576b\"],[0.6666666666666666,\"#ed7953\"],[0.7777777777777778,\"#fb9f3a\"],[0.8888888888888888,\"#fdca26\"],[1.0,\"#f0f921\"]],\"sequentialminus\":[[0.0,\"#0d0887\"],[0.1111111111111111,\"#46039f\"],[0.2222222222222222,\"#7201a8\"],[0.3333333333333333,\"#9c179e\"],[0.4444444444444444,\"#bd3786\"],[0.5555555555555556,\"#d8576b\"],[0.6666666666666666,\"#ed7953\"],[0.7777777777777778,\"#fb9f3a\"],[0.8888888888888888,\"#fdca26\"],[1.0,\"#f0f921\"]],\"diverging\":[[0,\"#8e0152\"],[0.1,\"#c51b7d\"],[0.2,\"#de77ae\"],[0.3,\"#f1b6da\"],[0.4,\"#fde0ef\"],[0.5,\"#f7f7f7\"],[0.6,\"#e6f5d0\"],[0.7,\"#b8e186\"],[0.8,\"#7fbc41\"],[0.9,\"#4d9221\"],[1,\"#276419\"]]},\"xaxis\":{\"gridcolor\":\"white\",\"linecolor\":\"white\",\"ticks\":\"\",\"title\":{\"standoff\":15},\"zerolinecolor\":\"white\",\"automargin\":true,\"zerolinewidth\":2},\"yaxis\":{\"gridcolor\":\"white\",\"linecolor\":\"white\",\"ticks\":\"\",\"title\":{\"standoff\":15},\"zerolinecolor\":\"white\",\"automargin\":true,\"zerolinewidth\":2},\"scene\":{\"xaxis\":{\"backgroundcolor\":\"#E5ECF6\",\"gridcolor\":\"white\",\"linecolor\":\"white\",\"showbackground\":true,\"ticks\":\"\",\"zerolinecolor\":\"white\",\"gridwidth\":2},\"yaxis\":{\"backgroundcolor\":\"#E5ECF6\",\"gridcolor\":\"white\",\"linecolor\":\"white\",\"showbackground\":true,\"ticks\":\"\",\"zerolinecolor\":\"white\",\"gridwidth\":2},\"zaxis\":{\"backgroundcolor\":\"#E5ECF6\",\"gridcolor\":\"white\",\"linecolor\":\"white\",\"showbackground\":true,\"ticks\":\"\",\"zerolinecolor\":\"white\",\"gridwidth\":2}},\"shapedefaults\":{\"line\":{\"color\":\"#2a3f5f\"}},\"annotationdefaults\":{\"arrowcolor\":\"#2a3f5f\",\"arrowhead\":0,\"arrowwidth\":1},\"geo\":{\"bgcolor\":\"white\",\"landcolor\":\"#E5ECF6\",\"subunitcolor\":\"white\",\"showland\":true,\"showlakes\":true,\"lakecolor\":\"white\"},\"title\":{\"x\":0.05},\"mapbox\":{\"style\":\"light\"}}},\"scene\":{\"domain\":{\"x\":[0.0,1.0],\"y\":[0.0,1.0]},\"xaxis\":{\"title\":{\"text\":\"X\"}},\"yaxis\":{\"title\":{\"text\":\"Y\"}},\"zaxis\":{\"title\":{\"text\":\"Z\"}}},\"coloraxis\":{\"colorbar\":{\"title\":{\"text\":\"Color\"}},\"colorscale\":[[0.0,\"#0d0887\"],[0.1111111111111111,\"#46039f\"],[0.2222222222222222,\"#7201a8\"],[0.3333333333333333,\"#9c179e\"],[0.4444444444444444,\"#bd3786\"],[0.5555555555555556,\"#d8576b\"],[0.6666666666666666,\"#ed7953\"],[0.7777777777777778,\"#fb9f3a\"],[0.8888888888888888,\"#fdca26\"],[1.0,\"#f0f921\"]]},\"legend\":{\"tracegroupgap\":0,\"itemsizing\":\"constant\"},\"title\":{\"text\":\"3D Scatter Plot using Plotly\"}},                        {\"responsive\": true}                    ).then(function(){\n",
              "                            \n",
              "var gd = document.getElementById('9fc6f7fb-a37a-4e28-b46b-809d4622491a');\n",
              "var x = new MutationObserver(function (mutations, observer) {{\n",
              "        var display = window.getComputedStyle(gd).display;\n",
              "        if (!display || display === 'none') {{\n",
              "            console.log([gd, 'removed!']);\n",
              "            Plotly.purge(gd);\n",
              "            observer.disconnect();\n",
              "        }}\n",
              "}});\n",
              "\n",
              "// Listen for the removal of the full notebook cells\n",
              "var notebookContainer = gd.closest('#notebook-container');\n",
              "if (notebookContainer) {{\n",
              "    x.observe(notebookContainer, {childList: true});\n",
              "}}\n",
              "\n",
              "// Listen for the clearing of the current output cell\n",
              "var outputEl = gd.closest('.output');\n",
              "if (outputEl) {{\n",
              "    x.observe(outputEl, {childList: true});\n",
              "}}\n",
              "\n",
              "                        })                };                            </script>        </div>\n",
              "</body>\n",
              "</html>"
            ]
          },
          "metadata": {}
        }
      ]
    }
  ]
}